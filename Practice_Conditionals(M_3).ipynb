{
  "nbformat": 4,
  "nbformat_minor": 0,
  "metadata": {
    "colab": {
      "provenance": [],
      "include_colab_link": true
    },
    "kernelspec": {
      "name": "python3",
      "display_name": "Python 3"
    },
    "language_info": {
      "name": "python"
    }
  },
  "cells": [
    {
      "cell_type": "markdown",
      "metadata": {
        "id": "view-in-github",
        "colab_type": "text"
      },
      "source": [
        "<a href=\"https://colab.research.google.com/github/Visal-Se/Google-Collab/blob/main/Practice_Conditionals(M_3).ipynb\" target=\"_parent\"><img src=\"https://colab.research.google.com/assets/colab-badge.svg\" alt=\"Open In Colab\"/></a>"
      ]
    },
    {
      "cell_type": "markdown",
      "source": [
        "**SAVE A COPY** OF THIS NOTEBOOK TO YOUR OWN DRIVE **BEFORE YOU START**"
      ],
      "metadata": {
        "id": "BmxJC3MmmQAF"
      }
    },
    {
      "cell_type": "markdown",
      "source": [
        "# Predict the result\n",
        "\n",
        "You should first read the code and predict what it will do. After predicting, you should run the code."
      ],
      "metadata": {
        "id": "9fjQGM5UufI7"
      }
    },
    {
      "cell_type": "markdown",
      "source": [
        "## Conditional Expressions"
      ],
      "metadata": {
        "id": "trW6y0qngK6s"
      }
    },
    {
      "cell_type": "code",
      "source": [
        "7 < 2"
      ],
      "metadata": {
        "id": "5ff1JKr8gPt-",
        "colab": {
          "base_uri": "https://localhost:8080/"
        },
        "outputId": "8f9ddb9e-7c5b-463b-f9ee-8faacc5f2db3"
      },
      "execution_count": 1,
      "outputs": [
        {
          "output_type": "execute_result",
          "data": {
            "text/plain": [
              "False"
            ]
          },
          "metadata": {},
          "execution_count": 1
        }
      ]
    },
    {
      "cell_type": "code",
      "source": [
        "\"hello\" == \"HELLO\""
      ],
      "metadata": {
        "id": "uOpCyPB7gRWX",
        "colab": {
          "base_uri": "https://localhost:8080/"
        },
        "outputId": "3e40669d-24a5-40bf-c619-bfabc388bd17"
      },
      "execution_count": 2,
      "outputs": [
        {
          "output_type": "execute_result",
          "data": {
            "text/plain": [
              "False"
            ]
          },
          "metadata": {},
          "execution_count": 2
        }
      ]
    },
    {
      "cell_type": "code",
      "source": [
        "\"hi\" == \"hi\""
      ],
      "metadata": {
        "id": "XnoswKaTgTgL",
        "colab": {
          "base_uri": "https://localhost:8080/"
        },
        "outputId": "8c578cc9-bd2c-4110-a2cb-57ecaa03d9a4"
      },
      "execution_count": 3,
      "outputs": [
        {
          "output_type": "execute_result",
          "data": {
            "text/plain": [
              "True"
            ]
          },
          "metadata": {},
          "execution_count": 3
        }
      ]
    },
    {
      "cell_type": "code",
      "source": [
        "\"apple\" < \"banana\""
      ],
      "metadata": {
        "id": "G0dfMV85gVnW",
        "colab": {
          "base_uri": "https://localhost:8080/"
        },
        "outputId": "d4c15955-974f-4c6a-e241-ab957300edb0"
      },
      "execution_count": 4,
      "outputs": [
        {
          "output_type": "execute_result",
          "data": {
            "text/plain": [
              "True"
            ]
          },
          "metadata": {},
          "execution_count": 4
        }
      ]
    },
    {
      "cell_type": "code",
      "source": [
        "249 == 249"
      ],
      "metadata": {
        "id": "IQVj_R38gX4d",
        "colab": {
          "base_uri": "https://localhost:8080/"
        },
        "outputId": "7954376f-d587-4371-b671-8c6eeb485a75"
      },
      "execution_count": 5,
      "outputs": [
        {
          "output_type": "execute_result",
          "data": {
            "text/plain": [
              "True"
            ]
          },
          "metadata": {},
          "execution_count": 5
        }
      ]
    },
    {
      "cell_type": "code",
      "source": [
        "21 <= 21"
      ],
      "metadata": {
        "id": "ldZDT8_jgZ3H",
        "colab": {
          "base_uri": "https://localhost:8080/"
        },
        "outputId": "a5ffd04d-211a-4fb5-fd23-3badea5f85f0"
      },
      "execution_count": 6,
      "outputs": [
        {
          "output_type": "execute_result",
          "data": {
            "text/plain": [
              "True"
            ]
          },
          "metadata": {},
          "execution_count": 6
        }
      ]
    },
    {
      "cell_type": "code",
      "source": [
        "10 != 10 or 10 % 2 == 0"
      ],
      "metadata": {
        "id": "8sqQtgFSgbf4",
        "colab": {
          "base_uri": "https://localhost:8080/"
        },
        "outputId": "e9969653-fe0c-4b3c-98d0-e3281d8d7e2f"
      },
      "execution_count": 8,
      "outputs": [
        {
          "output_type": "execute_result",
          "data": {
            "text/plain": [
              "True"
            ]
          },
          "metadata": {},
          "execution_count": 8
        }
      ]
    },
    {
      "cell_type": "code",
      "source": [
        "\"word\" == \"WORD\".lower() and 56 >= 0"
      ],
      "metadata": {
        "id": "dEx2D6VWgdqt",
        "colab": {
          "base_uri": "https://localhost:8080/"
        },
        "outputId": "b7eba273-0ec2-4af4-91a4-5ef32a54f3e3"
      },
      "execution_count": 9,
      "outputs": [
        {
          "output_type": "execute_result",
          "data": {
            "text/plain": [
              "True"
            ]
          },
          "metadata": {},
          "execution_count": 9
        }
      ]
    },
    {
      "cell_type": "markdown",
      "source": [
        "Code 1"
      ],
      "metadata": {
        "id": "oaeaOPijvpSi"
      }
    },
    {
      "cell_type": "code",
      "execution_count": 10,
      "metadata": {
        "id": "1ttHBV2ruXIY",
        "colab": {
          "base_uri": "https://localhost:8080/"
        },
        "outputId": "d460a828-cf21-4e22-e35c-182e64ec5f18"
      },
      "outputs": [
        {
          "output_type": "stream",
          "name": "stdout",
          "text": [
            "Cookies!! I want to eat them all!\n"
          ]
        }
      ],
      "source": [
        "food = \"cookies\"\n",
        "\n",
        "if food == \"cookies\":\n",
        "  print(\"Cookies!! I want to eat them all!\")\n",
        "elif food == \"cake\":\n",
        "  print(\"Cake is so delicious. I need more than one piece.\")\n",
        "else:\n",
        "  print(\"nom nom, dessert.\")"
      ]
    },
    {
      "cell_type": "markdown",
      "source": [
        "Code 2"
      ],
      "metadata": {
        "id": "B83HRL3Mvqkx"
      }
    },
    {
      "cell_type": "code",
      "source": [
        "food = \"cookies\"\n",
        "\n",
        "if food == \"cookies\":\n",
        "  print(\"Cookies!! I want to eat them all!\")\n",
        "if food == \"cake\":\n",
        "  print(\"Cake is so delicious. I need more than one piece.\")\n",
        "else:\n",
        "  print(\"nom nom, dessert.\")"
      ],
      "metadata": {
        "id": "9hVVHbGVupjA",
        "colab": {
          "base_uri": "https://localhost:8080/"
        },
        "outputId": "888a2b6b-91cf-43b5-8f1b-d6027f1b8b32"
      },
      "execution_count": 11,
      "outputs": [
        {
          "output_type": "stream",
          "name": "stdout",
          "text": [
            "Cookies!! I want to eat them all!\n",
            "nom nom, dessert.\n"
          ]
        }
      ]
    },
    {
      "cell_type": "markdown",
      "source": [
        "Code 3"
      ],
      "metadata": {
        "id": "N18V7ScGvrhp"
      }
    },
    {
      "cell_type": "code",
      "source": [
        "def dessert(food):\n",
        "  if food == \"cookies\":\n",
        "    print(\"Cookies!! I want to eat them all!\")\n",
        "  elif food == \"cake\":\n",
        "    print(\"Cake is so delicious. I need more than one piece.\")\n",
        "  else:\n",
        "    print(\"nom nom, dessert.\")\n",
        "\n",
        "#----main----\n",
        "dessert(\"cake\")"
      ],
      "metadata": {
        "id": "N2bFZauTu-o1",
        "colab": {
          "base_uri": "https://localhost:8080/"
        },
        "outputId": "1d140c8d-f963-4ec0-bcd8-223eead0ce3f"
      },
      "execution_count": 12,
      "outputs": [
        {
          "output_type": "stream",
          "name": "stdout",
          "text": [
            "Cake is so delicious. I need more than one piece.\n"
          ]
        }
      ]
    },
    {
      "cell_type": "markdown",
      "source": [
        "Code 4"
      ],
      "metadata": {
        "id": "-zXT19TTvsQ4"
      }
    },
    {
      "cell_type": "code",
      "source": [
        "def dessert(food):\n",
        "  if food == \"cookies\":\n",
        "    print(\"Cookies!! I want to eat them all!\")\n",
        "  elif food == \"cake\":\n",
        "    print(\"Cake is so delicious. I need more than one piece.\")\n",
        "  else:\n",
        "    print(\"nom nom, dessert.\")\n",
        "\n",
        "#----main----\n",
        "favorite = input(\"What's your favorite dessert? >\")\n",
        "dessert(favorite)"
      ],
      "metadata": {
        "id": "HwC7slmwvX4h",
        "colab": {
          "base_uri": "https://localhost:8080/"
        },
        "outputId": "0b80b799-eb2b-42c9-dd2d-12d6d274a7d5"
      },
      "execution_count": 14,
      "outputs": [
        {
          "output_type": "stream",
          "name": "stdout",
          "text": [
            "What's your favorite dessert? >ice cream\n",
            "nom nom, dessert.\n"
          ]
        }
      ]
    },
    {
      "cell_type": "markdown",
      "source": [
        "Code 5"
      ],
      "metadata": {
        "id": "ySy0TQaRvtCl"
      }
    },
    {
      "cell_type": "code",
      "source": [
        "def dessert(food):\n",
        "  if food == \"cookies\":\n",
        "    print(\"Cookies!! I want to eat them all!\")\n",
        "  elif food == \"cake\":\n",
        "    print(\"Cake is so delicious. I need more than one piece.\")\n",
        "  else:\n",
        "    print(\"nom nom, dessert.\")\n",
        "    like = input(\"Do you like cookies and cake too? \").lower()\n",
        "    if like == \"yes\":\n",
        "      print(\"Let's eat\", food, \"and cookies and cake!\")\n",
        "    else:\n",
        "      print(\"Then eat your\", food)\n",
        "\n",
        "#----main----\n",
        "# Test this code with something that is not \"cookies\" or \"cake\"\n",
        "favorite = input(\"What's your favorite dessert? >\")\n",
        "dessert(favorite)"
      ],
      "metadata": {
        "id": "4uOTySeSvkgu",
        "colab": {
          "base_uri": "https://localhost:8080/"
        },
        "outputId": "77eb1dfb-4e08-4be0-83ca-359272fbb92d"
      },
      "execution_count": 16,
      "outputs": [
        {
          "output_type": "stream",
          "name": "stdout",
          "text": [
            "What's your favorite dessert? >ice cream\n",
            "nom nom, dessert.\n",
            "Do you like cookies and cake too? yes\n",
            "Let's eat ice cream and cookies and cake!\n"
          ]
        }
      ]
    },
    {
      "cell_type": "markdown",
      "source": [
        "# Write your own\n",
        "\n",
        "Write code snippets to do the following."
      ],
      "metadata": {
        "id": "vd0lsPpPwAMl"
      }
    },
    {
      "cell_type": "markdown",
      "source": [
        "Specification 6\n",
        "\n",
        "Complete the following function so that it prints \"EVEN\" if the parameter passed is a multiple of two, and prints \"ODD\" if the parameter is not a multiple of two."
      ],
      "metadata": {
        "id": "9ST_XykuwHft"
      }
    },
    {
      "cell_type": "code",
      "source": [
        "def even(x):\n",
        "  # don't forget to delete pass before beginning :)\n",
        "  pass\n",
        "\n",
        "#----main----\n",
        "number = int(input(\"Enter a number 1-10 > \"))\n",
        "print(number, \"is\", end=\" \")\n",
        "even(number)"
      ],
      "metadata": {
        "id": "zjYH8SYbwGId"
      },
      "execution_count": null,
      "outputs": []
    },
    {
      "cell_type": "markdown",
      "source": [
        "Specification 7\n",
        "\n",
        "Complete the following function so that it prints \"PRIME\" if the parameter passed is 2, 3, 5, or 7 (do not try to come up with a general prime formula, just hardcode for these four values), and prints \"NOT PRIME\" otherwise (1, 4, 6, 8, 9, or 10)\n",
        "\n",
        "Additionally, write the main, similar to Code 6, to test your function."
      ],
      "metadata": {
        "id": "GAghCEBswQ_3"
      }
    },
    {
      "cell_type": "code",
      "source": [
        "def prime(x):\n",
        "  pass"
      ],
      "metadata": {
        "id": "S-mjdTkqwWgL"
      },
      "execution_count": null,
      "outputs": []
    },
    {
      "cell_type": "markdown",
      "source": [
        "Specification 8\n",
        "\n",
        "Define a function called `invalid` so that it takes a number as a parameter, and then prints \"INVALID NUMBER\" if the number is not 1-10 (inclusive).\n",
        "\n",
        "Additionally, write the main, similar to Code 6, to test your function."
      ],
      "metadata": {
        "id": "swkrBSMThTP8"
      }
    },
    {
      "cell_type": "code",
      "source": [],
      "metadata": {
        "id": "Fb16BBCZhRC9"
      },
      "execution_count": null,
      "outputs": []
    }
  ]
}