{
  "nbformat": 4,
  "nbformat_minor": 0,
  "metadata": {
    "colab": {
      "provenance": [],
      "include_colab_link": true
    },
    "kernelspec": {
      "name": "python3",
      "display_name": "Python 3"
    },
    "language_info": {
      "name": "python"
    }
  },
  "cells": [
    {
      "cell_type": "markdown",
      "metadata": {
        "id": "view-in-github",
        "colab_type": "text"
      },
      "source": [
        "<a href=\"https://colab.research.google.com/github/Visal-Se/Google-Collab/blob/main/Practice_Functions_(M_2).ipynb\" target=\"_parent\"><img src=\"https://colab.research.google.com/assets/colab-badge.svg\" alt=\"Open In Colab\"/></a>"
      ]
    },
    {
      "cell_type": "markdown",
      "source": [
        "**SAVE A COPY** OF THIS NOTEBOOK TO YOUR OWN DRIVE **BEFORE YOU START**"
      ],
      "metadata": {
        "id": "tRT4umI1mYJt"
      }
    },
    {
      "cell_type": "markdown",
      "source": [
        "# Predict the result\n",
        "\n",
        "You should first read the code and predict what it will do. After predicting, you should run the code."
      ],
      "metadata": {
        "id": "9fjQGM5UufI7"
      }
    },
    {
      "cell_type": "markdown",
      "source": [
        "Code 1"
      ],
      "metadata": {
        "id": "oaeaOPijvpSi"
      }
    },
    {
      "cell_type": "code",
      "execution_count": 1,
      "metadata": {
        "id": "1ttHBV2ruXIY",
        "colab": {
          "base_uri": "https://localhost:8080/"
        },
        "outputId": "95bd03b8-e9df-4c78-b245-8e28bb08ae7f"
      },
      "outputs": [
        {
          "output_type": "stream",
          "name": "stdout",
          "text": [
            "Adam, I’M COUNTING TO THREE!!\n",
            "1 one-thousand...\n",
            "2 one-thousand...\n",
            "3 one-thousand...\n",
            "Adam, GET IN HERE RIGHT NOW!\n"
          ]
        }
      ],
      "source": [
        "def yell(name, phrase):\n",
        "   print(f\"{name}, {phrase.upper()}!\")\n",
        "\n",
        "def count(num):\n",
        "   print(num, \"one-thousand...\")\n",
        "\n",
        "#----main----\n",
        "yell(\"Adam\", \"I’m counting to three!\")\n",
        "count(1)\n",
        "count(2)\n",
        "count(3)\n",
        "yell(\"Adam\", \"get in here right now\")"
      ]
    },
    {
      "cell_type": "markdown",
      "source": [
        "Code 2"
      ],
      "metadata": {
        "id": "B83HRL3Mvqkx"
      }
    },
    {
      "cell_type": "code",
      "source": [
        "def yell(name, phrase):\n",
        "   print(f\"{name}, {phrase.upper()}!\")\n",
        "\n",
        "def count(num):\n",
        "   print(num, \"one-thousand...\")\n",
        "\n",
        "#----main----\n",
        "yell(\"Adam\", \"You have three seconds\")\n",
        "count(3)\n",
        "count(2)\n",
        "count(1)\n",
        "yell(\"Adam\", \"Where are you?\")"
      ],
      "metadata": {
        "id": "9hVVHbGVupjA",
        "colab": {
          "base_uri": "https://localhost:8080/"
        },
        "outputId": "f52d405b-ffa9-42eb-e534-1eeb330c31f1"
      },
      "execution_count": 4,
      "outputs": [
        {
          "output_type": "stream",
          "name": "stdout",
          "text": [
            "Adam, YOU HAVE THREE SECONDS!\n",
            "3 one-thousand...\n",
            "2 one-thousand...\n",
            "1 one-thousand...\n",
            "Adam, WHERE ARE YOU?!\n"
          ]
        }
      ]
    },
    {
      "cell_type": "markdown",
      "source": [
        "Code 3"
      ],
      "metadata": {
        "id": "N18V7ScGvrhp"
      }
    },
    {
      "cell_type": "code",
      "source": [
        "def one():\n",
        "   print(\"In function one.\")\n",
        "\n",
        "def two():\n",
        "   print(\"In function two.\")\n",
        "   one()\n",
        "\n",
        "def three():\n",
        "   print(\"In function three.\")\n",
        "   two()\n",
        "\n",
        "#----main----\n",
        "one()"
      ],
      "metadata": {
        "id": "N2bFZauTu-o1",
        "colab": {
          "base_uri": "https://localhost:8080/"
        },
        "outputId": "3f42a84c-055a-4fa3-a680-6d4d1f4bc6b5"
      },
      "execution_count": 5,
      "outputs": [
        {
          "output_type": "stream",
          "name": "stdout",
          "text": [
            "In function one.\n"
          ]
        }
      ]
    },
    {
      "cell_type": "markdown",
      "source": [
        "Code 4"
      ],
      "metadata": {
        "id": "-zXT19TTvsQ4"
      }
    },
    {
      "cell_type": "code",
      "source": [
        "def one():\n",
        "   print(\"In function one.\")\n",
        "\n",
        "def two():\n",
        "   print(\"In function two.\")\n",
        "   one()\n",
        "\n",
        "def three():\n",
        "   print(\"In function three.\")\n",
        "   two()\n",
        "\n",
        "#----main----\n",
        "one()\n",
        "two()\n",
        "three()"
      ],
      "metadata": {
        "id": "HwC7slmwvX4h",
        "colab": {
          "base_uri": "https://localhost:8080/"
        },
        "outputId": "458737a6-aca8-49e0-ed40-247edad8e41c"
      },
      "execution_count": 6,
      "outputs": [
        {
          "output_type": "stream",
          "name": "stdout",
          "text": [
            "In function one.\n",
            "In function two.\n",
            "In function one.\n",
            "In function three.\n",
            "In function two.\n",
            "In function one.\n"
          ]
        }
      ]
    },
    {
      "cell_type": "markdown",
      "source": [
        "Code 5"
      ],
      "metadata": {
        "id": "ySy0TQaRvtCl"
      }
    },
    {
      "cell_type": "code",
      "source": [
        "def calculate(num1, num2, num3):\n",
        "   total = num1 + num2 + num3\n",
        "   average = total / 3.0\n",
        "   print(f\"{num1} + {num2} + {num3} = {total}\")\n",
        "   print(f\"average = {average}\")\n",
        "   print()\n",
        "\n",
        "#----main----\n",
        "calculate(10, 10, 15)\n",
        "calculate(80, 100, 0)"
      ],
      "metadata": {
        "id": "4uOTySeSvkgu",
        "colab": {
          "base_uri": "https://localhost:8080/"
        },
        "outputId": "3062492f-aae8-4a9d-eb51-503c260a52dc"
      },
      "execution_count": 7,
      "outputs": [
        {
          "output_type": "stream",
          "name": "stdout",
          "text": [
            "10 + 10 + 15 = 35\n",
            "average = 11.666666666666666\n",
            "\n",
            "80 + 100 + 0 = 180\n",
            "average = 60.0\n",
            "\n"
          ]
        }
      ]
    },
    {
      "cell_type": "markdown",
      "source": [
        "# Write your own\n",
        "\n",
        "Write code snippets to do the following."
      ],
      "metadata": {
        "id": "vd0lsPpPwAMl"
      }
    },
    {
      "cell_type": "markdown",
      "source": [
        "Output 6\n",
        "\n",
        "Define a function that takes a catch phrase as a parameter and prints out that catch phrase three times in a row.\n",
        "\n",
        "e.g. `catch_phrase(\"Cool Beans!\")` would produce\n",
        "\n",
        "```\n",
        "Cool Beans!\n",
        "Cool Beans!\n",
        "Cool Beans!\n",
        "```\n",
        "\n",
        "Note that “Cool Beans!” is not intended to be a static phrase. We could pass a different value to catch_phrase() and get that phrase repeated instead."
      ],
      "metadata": {
        "id": "9ST_XykuwHft"
      }
    },
    {
      "cell_type": "code",
      "source": [
        "def catch_phrase(phrase):\n",
        "  print(phrase*3)\n",
        "catch_phrase(\"Cool Beans!\\n\")"
      ],
      "metadata": {
        "id": "zjYH8SYbwGId",
        "colab": {
          "base_uri": "https://localhost:8080/"
        },
        "outputId": "c7586022-8529-4069-a4a2-68086eebc7a3"
      },
      "execution_count": 10,
      "outputs": [
        {
          "output_type": "stream",
          "name": "stdout",
          "text": [
            "Cool Beans!\n",
            "Cool Beans!\n",
            "Cool Beans!\n",
            "\n"
          ]
        }
      ]
    },
    {
      "cell_type": "markdown",
      "source": [
        "Output 7\n",
        "\n",
        "Define a function that takes a number of inches as a parameter and prints out that  height in feet and inches. There are 12 inches in a foot. You will need to use both division and modulus to solve this problem.\n",
        "\n",
        "e.g. `calc_height(73)` would produce\n",
        "\n",
        "```\n",
        "73 inches = 6 feet 1 inches\n",
        "```"
      ],
      "metadata": {
        "id": "GAghCEBswQ_3"
      }
    },
    {
      "cell_type": "code",
      "source": [],
      "metadata": {
        "id": "S-mjdTkqwWgL"
      },
      "execution_count": null,
      "outputs": []
    }
  ]
}