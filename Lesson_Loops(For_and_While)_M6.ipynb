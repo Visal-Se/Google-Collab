{
  "nbformat": 4,
  "nbformat_minor": 0,
  "metadata": {
    "colab": {
      "provenance": [],
      "authorship_tag": "ABX9TyN9WD2o827OZ/2RRiMImwoO",
      "include_colab_link": true
    },
    "kernelspec": {
      "name": "python3",
      "display_name": "Python 3"
    },
    "language_info": {
      "name": "python"
    }
  },
  "cells": [
    {
      "cell_type": "markdown",
      "metadata": {
        "id": "view-in-github",
        "colab_type": "text"
      },
      "source": [
        "<a href=\"https://colab.research.google.com/github/Visal-Se/Google-Collab/blob/main/Lesson_Loops(For_and_While)_M6.ipynb\" target=\"_parent\"><img src=\"https://colab.research.google.com/assets/colab-badge.svg\" alt=\"Open In Colab\"/></a>"
      ]
    },
    {
      "cell_type": "markdown",
      "source": [
        "#For Loop"
      ],
      "metadata": {
        "id": "hL8IUPPgXA_d"
      }
    },
    {
      "cell_type": "code",
      "execution_count": 7,
      "metadata": {
        "colab": {
          "base_uri": "https://localhost:8080/"
        },
        "id": "Q8OmvnnbQwco",
        "outputId": "8c43146b-66cf-4df4-bf5a-33349cc7c376"
      },
      "outputs": [
        {
          "output_type": "stream",
          "name": "stdout",
          "text": [
            "Interation 0\n",
            "Interation 5\n",
            "Interation 10\n",
            "Interation 15\n",
            "Interation 20\n",
            "Interation 25\n",
            "The loop is over.\n"
          ]
        }
      ],
      "source": [
        "for i in range(0,30,5):\n",
        "  print(\"Interation\", i)\n",
        "\n",
        "print(\"The loop is over.\")"
      ]
    },
    {
      "cell_type": "markdown",
      "source": [
        "#While Loop"
      ],
      "metadata": {
        "id": "Lg1fPYnoXHdd"
      }
    },
    {
      "cell_type": "code",
      "source": [
        "number = int(input(\"Enter a nuumber (1-3) > \"))\n",
        "while number < 1 or number > 3:\n",
        "  print(\"Invalid number. Please enter a value 1-3.\")\n",
        "  number = int(input(\"Enter a nuumber (1-3) > \"))\n",
        "\n",
        "print(number)"
      ],
      "metadata": {
        "colab": {
          "base_uri": "https://localhost:8080/"
        },
        "id": "1q7_EgKRXMxp",
        "outputId": "490d8abf-60ef-4c44-fc56-29968f8e06fa"
      },
      "execution_count": 10,
      "outputs": [
        {
          "output_type": "stream",
          "name": "stdout",
          "text": [
            "Enter a nuumber (1-3) > 69\n",
            "Invalid number. Please enter a value 1-3.\n",
            "Enter a nuumber (1-3) > 9493\n",
            "Invalid number. Please enter a value 1-3.\n",
            "Enter a nuumber (1-3) > 2\n",
            "2\n"
          ]
        }
      ]
    }
  ]
}