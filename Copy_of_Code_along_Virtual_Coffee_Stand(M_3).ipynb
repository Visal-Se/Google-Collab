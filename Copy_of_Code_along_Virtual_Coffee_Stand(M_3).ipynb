{
  "nbformat": 4,
  "nbformat_minor": 0,
  "metadata": {
    "colab": {
      "provenance": [],
      "include_colab_link": true
    },
    "kernelspec": {
      "name": "python3",
      "display_name": "Python 3"
    },
    "language_info": {
      "name": "python"
    }
  },
  "cells": [
    {
      "cell_type": "markdown",
      "metadata": {
        "id": "view-in-github",
        "colab_type": "text"
      },
      "source": [
        "<a href=\"https://colab.research.google.com/github/Visal-Se/Google-Collab/blob/main/Copy_of_Code_along_Virtual_Coffee_Stand(M_3).ipynb\" target=\"_parent\"><img src=\"https://colab.research.google.com/assets/colab-badge.svg\" alt=\"Open In Colab\"/></a>"
      ]
    },
    {
      "cell_type": "markdown",
      "source": [
        "**SAVE A COPY** OF THIS NOTEBOOK TO YOUR OWN DRIVE **BEFORE YOU START**"
      ],
      "metadata": {
        "id": "ssZ3isZZmJ8j"
      }
    },
    {
      "cell_type": "markdown",
      "source": [
        "#**Virtual Coffee Stand**"
      ],
      "metadata": {
        "id": "g8wN8NXdpVBZ"
      }
    },
    {
      "cell_type": "markdown",
      "source": [
        "# Step 1: `get_type()`\n",
        "\n",
        "Define a function that prompts the user if they would like to purchase tea, house coffee, or premium blend coffee. Return the user's choice as a string."
      ],
      "metadata": {
        "id": "hh4-xkfFlaAh"
      }
    },
    {
      "cell_type": "code",
      "execution_count": 7,
      "metadata": {
        "id": "eaHeqtE2lWlc"
      },
      "outputs": [],
      "source": [
        "def get_type():\n",
        "  print()\n",
        "  print(\"ANGKOR COFFEE SHOP\")\n",
        "  print(\"We have:\")\n",
        "  print(\"    TEA\")\n",
        "  print(\"    COFFEE\")\n",
        "  print(\"    PREMIUM BLEND \")\n",
        "  print()\n",
        "  choice = input(\"What would you like? > \")\n",
        "  return choice.upper()"
      ]
    },
    {
      "cell_type": "code",
      "source": [
        "get_type()"
      ],
      "metadata": {
        "colab": {
          "base_uri": "https://localhost:8080/"
        },
        "id": "cDO6VKBt5r3T",
        "outputId": "dc15fb53-3ff1-4d3c-946b-a07bd048ac79"
      },
      "execution_count": 3,
      "outputs": [
        {
          "name": "stdout",
          "output_type": "stream",
          "text": [
            "\n",
            "ANGKOR COFFEE SHOP\n",
            "We have:\n",
            "    TEA\n",
            "    COFFEE\n",
            "    PREMIUM BLEND \n",
            "\n",
            "What would you like? > TEA\n"
          ]
        }
      ]
    },
    {
      "cell_type": "markdown",
      "source": [
        "## Test: `get_type()`"
      ],
      "metadata": {
        "id": "mdvanGJORu72"
      }
    },
    {
      "cell_type": "code",
      "source": [
        "get_type()"
      ],
      "metadata": {
        "colab": {
          "base_uri": "https://localhost:8080/",
          "height": 174
        },
        "id": "GEAGyD2S7O8L",
        "outputId": "58c59720-56ed-481b-a96f-050c597be3e0"
      },
      "execution_count": 9,
      "outputs": [
        {
          "name": "stdout",
          "output_type": "stream",
          "text": [
            "\n",
            "ANGKOR COFFEE SHOP\n",
            "We have:\n",
            "    TEA\n",
            "    COFFEE\n",
            "    PREMIUM BLEND \n",
            "\n",
            "What would you like? > coffee\n"
          ]
        },
        {
          "output_type": "execute_result",
          "data": {
            "text/plain": [
              "'COFFEE'"
            ],
            "application/vnd.google.colaboratory.intrinsic+json": {
              "type": "string"
            }
          },
          "metadata": {},
          "execution_count": 9
        }
      ]
    },
    {
      "cell_type": "code",
      "source": [
        "drink_type = get_type()\n",
        "print(f\"You ordered {drink_type}.\")"
      ],
      "metadata": {
        "id": "REgpxqNRRyUG",
        "colab": {
          "base_uri": "https://localhost:8080/"
        },
        "outputId": "9c6a04db-89de-4fdb-e144-2c7983953877"
      },
      "execution_count": 10,
      "outputs": [
        {
          "output_type": "stream",
          "name": "stdout",
          "text": [
            "\n",
            "ANGKOR COFFEE SHOP\n",
            "We have:\n",
            "    TEA\n",
            "    COFFEE\n",
            "    PREMIUM BLEND \n",
            "\n",
            "What would you like? > tea\n",
            "You ordered TEA.\n"
          ]
        }
      ]
    },
    {
      "cell_type": "markdown",
      "source": [
        "# Step 2: `get_size()`\n",
        "\n",
        "Define a function that prompts the user if they would like a short (8oz), tall (12oz), or grande (16oz). Return the user's choice as an integer representing the number of ounces they would like."
      ],
      "metadata": {
        "id": "2HKHHfDdldJb"
      }
    },
    {
      "cell_type": "code",
      "source": [
        "def get_size():\n",
        "  print()\n",
        "  print(\"Would you like a:\")\n",
        "  print(\"    SMALL (8oz)\")\n",
        "  print(\"    TALL (12oz)\")\n",
        "  print(\"    GRANDE (16oz)\")\n",
        "  size= (int(input(\"What size would you like? (enter a number) > \")))\n",
        "  return (size)"
      ],
      "metadata": {
        "id": "cfsJfUzRlvtx"
      },
      "execution_count": 30,
      "outputs": []
    },
    {
      "cell_type": "markdown",
      "source": [
        "## Test: `get_size()`"
      ],
      "metadata": {
        "id": "IyLETVGiSCMT"
      }
    },
    {
      "cell_type": "code",
      "source": [
        "drink_size = get_size()\n",
        "print(f\"You ordered a {drink_size}oz {drink_type}.\")"
      ],
      "metadata": {
        "id": "tYjdkh6MSFE2",
        "colab": {
          "base_uri": "https://localhost:8080/"
        },
        "outputId": "1db96ac8-4ecb-43d9-f5d6-e6dc723906a1"
      },
      "execution_count": 32,
      "outputs": [
        {
          "output_type": "stream",
          "name": "stdout",
          "text": [
            "\n",
            "Would you like a:\n",
            "    SMALL (8oz)\n",
            "    TALL (12oz)\n",
            "    GRANDE (16oz)\n",
            "What size would you like? (enter a number) > 16\n",
            "You ordered a 16oz TEA.\n"
          ]
        }
      ]
    },
    {
      "cell_type": "markdown",
      "source": [
        "# Step 3: `calc_cost(...)`\n",
        "\n",
        "Define a function that takes the user's choice for coffee and size as parameters and returns the cost of the coffee as a float.\n",
        "\n",
        "The cost of the drink should be calculated as follows.\n",
        "\n",
        "Base cost:\n",
        "* tea has a base price of 3.00,\n",
        "* house coffee has a base price of 3.50, and\n",
        "* premium blend has a base price of 4.00.\n",
        "\n",
        "Size increase:\n",
        "* 8oz drinks are the base price,\n",
        "* 12oz drinks cost 1.25 times the base price, and\n",
        "* 16oz drinks cost 1.5 times the base price.\n",
        "\n",
        "So a TALL PREMIUM BLEND coffee would cost: 4.00 * 1.25 = $5.00"
      ],
      "metadata": {
        "id": "_tS3a4kJlwFh"
      }
    },
    {
      "cell_type": "code",
      "source": [
        "def calc_cost(d_type, d_size):\n",
        "  cost= 0.0\n",
        "\n",
        "  # base price\n",
        "  if d_type == \"TEA\":\n",
        "    cost = 3.00\n",
        "  elif d_type == \"COFFEE\":\n",
        "    cost = 3.50\n",
        "  elif d_type == \"PREMIUM BLEND\":\n",
        "    cost = 4.00\n",
        "\n",
        "  # size increase\n",
        "  if d_size == 12:\n",
        "    cost = cost * 1.25\n",
        "  elif d_size == 16:\n",
        "    cost = cost * 1.5\n",
        "\n",
        "  return cost"
      ],
      "metadata": {
        "id": "wzMPnH7ZmJFs"
      },
      "execution_count": 40,
      "outputs": []
    },
    {
      "cell_type": "markdown",
      "source": [
        "## Test: `calc_cost(...)`"
      ],
      "metadata": {
        "id": "rq0nDXSrSQvX"
      }
    },
    {
      "cell_type": "code",
      "source": [
        "drink_cost = calc_cost(drink_type, drink_size)\n",
        "print(f\"--- Your total is ${drink_cost}! ---\")"
      ],
      "metadata": {
        "id": "NaaeB4UgSVCp",
        "colab": {
          "base_uri": "https://localhost:8080/"
        },
        "outputId": "13fa9d5a-0057-4537-f78b-7eedb3fe2714"
      },
      "execution_count": 43,
      "outputs": [
        {
          "output_type": "stream",
          "name": "stdout",
          "text": [
            "--- Your total is $4.5! ---\n"
          ]
        }
      ]
    },
    {
      "cell_type": "code",
      "source": [
        "drink_cost2 = calc_cost(\"TEA\", 16)\n",
        "print(f\"--- Your total is ${drink_cost2}! ---\")"
      ],
      "metadata": {
        "id": "v8WONxznSjt5",
        "colab": {
          "base_uri": "https://localhost:8080/"
        },
        "outputId": "5fa1cc21-1fa9-4390-ffa0-8f79a9a531b5"
      },
      "execution_count": 42,
      "outputs": [
        {
          "output_type": "stream",
          "name": "stdout",
          "text": [
            "--- Your total is $4.5! ---\n"
          ]
        }
      ]
    },
    {
      "cell_type": "code",
      "source": [
        "drink_cost3 = calc_cost(\"PREMIUM BLEND\", 8)\n",
        "print(f\"--- Your total is ${drink_cost3}! ---\")"
      ],
      "metadata": {
        "id": "ZBL_HwA_StFq",
        "colab": {
          "base_uri": "https://localhost:8080/"
        },
        "outputId": "d4c29d67-c3cd-4ed4-cf21-79b0797eca2b"
      },
      "execution_count": 41,
      "outputs": [
        {
          "output_type": "stream",
          "name": "stdout",
          "text": [
            "--- Your total is $4.0! ---\n"
          ]
        }
      ]
    },
    {
      "cell_type": "markdown",
      "source": [
        "# FULL PROGRAM\n",
        "\n",
        "All function definitions should come first, followed by the \"main\" of the program (where you invoke/call these functions in the appropriate order)."
      ],
      "metadata": {
        "id": "8iJ-fE9NmMk5"
      }
    },
    {
      "cell_type": "code",
      "source": [
        "def get_type():\n",
        "  print()\n",
        "  print(\"ANGKOR COFFEE SHOP\")\n",
        "  print(\"We have:\")\n",
        "  print(\"    TEA\")\n",
        "  print(\"    COFFEE\")\n",
        "  print(\"    PREMIUM BLEND \")\n",
        "  print()\n",
        "  choice = input(\"What would you like? > \")\n",
        "  return choice.upper()\n",
        "\n",
        "def get_size():\n",
        "  print()\n",
        "  print(\"Would you like a:\")\n",
        "  print(\"    SMALL (8oz)\")\n",
        "  print(\"    TALL (12oz)\")\n",
        "  print(\"    GRANDE (16oz)\")\n",
        "  print()\n",
        "  size= (int(input(\"What size would you like? (enter a number) > \")))\n",
        "  return (size)\n",
        "\n",
        "def calc_cost(d_type, d_size):\n",
        "  cost= 0.0\n",
        "\n",
        "  # base price\n",
        "  if d_type == \"TEA\":\n",
        "    cost = 3.00\n",
        "  elif d_type == \"COFFEE\":\n",
        "    cost = 3.50\n",
        "  elif d_type == \"PREMIUM BLEND\":\n",
        "    cost = 4.00\n",
        "\n",
        "  # size increase\n",
        "  if d_size == 12:\n",
        "    cost = cost * 1.25\n",
        "  elif d_size == 16:\n",
        "    cost = cost * 1.5\n",
        "\n",
        "  return cost\n",
        "\n",
        "#-----MAIN---------\n",
        "drink_type = get_type()\n",
        "print(f\"You ordered {drink_type}.\")\n",
        "\n",
        "drink_size = get_size()\n",
        "print(f\"You ordered a {drink_size}oz {drink_type}.\")\n",
        "\n",
        "drink_cost = calc_cost(drink_type, drink_size)\n",
        "print(f\"--- Your total is ${drink_cost}! ---\")"
      ],
      "metadata": {
        "id": "8JGcafC5mNxV",
        "colab": {
          "base_uri": "https://localhost:8080/"
        },
        "outputId": "607ab52c-ffb3-44df-d70b-2a91e59d3af0"
      },
      "execution_count": 48,
      "outputs": [
        {
          "output_type": "stream",
          "name": "stdout",
          "text": [
            "\n",
            "ANGKOR COFFEE SHOP\n",
            "We have:\n",
            "    TEA\n",
            "    COFFEE\n",
            "    PREMIUM BLEND \n",
            "\n",
            "What would you like? > premium blend\n",
            "You ordered PREMIUM BLEND.\n",
            "\n",
            "Would you like a:\n",
            "    SMALL (8oz)\n",
            "    TALL (12oz)\n",
            "    GRANDE (16oz)\n",
            "\n",
            "What size would you like? (enter a number) > 12\n",
            "You ordered a 12oz PREMIUM BLEND.\n",
            "--- Your total is $5.0! ---\n"
          ]
        }
      ]
    }
  ]
}