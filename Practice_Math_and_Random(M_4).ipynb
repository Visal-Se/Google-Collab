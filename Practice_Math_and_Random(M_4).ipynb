{
  "nbformat": 4,
  "nbformat_minor": 0,
  "metadata": {
    "colab": {
      "provenance": [],
      "include_colab_link": true
    },
    "kernelspec": {
      "name": "python3",
      "display_name": "Python 3"
    },
    "language_info": {
      "name": "python"
    }
  },
  "cells": [
    {
      "cell_type": "markdown",
      "metadata": {
        "id": "view-in-github",
        "colab_type": "text"
      },
      "source": [
        "<a href=\"https://colab.research.google.com/github/Visal-Se/Google-Collab/blob/main/Practice_Math_and_Random(M_4).ipynb\" target=\"_parent\"><img src=\"https://colab.research.google.com/assets/colab-badge.svg\" alt=\"Open In Colab\"/></a>"
      ]
    },
    {
      "cell_type": "markdown",
      "source": [
        "**SAVE A COPY** OF THIS NOTEBOOK TO YOUR OWN DRIVE **BEFORE YOU START**"
      ],
      "metadata": {
        "id": "CM6_BnXtme-r"
      }
    },
    {
      "cell_type": "markdown",
      "source": [
        "# Predict the result\n",
        "\n",
        "You should first read the code and predict what it will do. After predicting, you should run the code."
      ],
      "metadata": {
        "id": "9fjQGM5UufI7"
      }
    },
    {
      "cell_type": "markdown",
      "source": [
        "Code 1"
      ],
      "metadata": {
        "id": "oaeaOPijvpSi"
      }
    },
    {
      "cell_type": "code",
      "execution_count": 1,
      "metadata": {
        "id": "1ttHBV2ruXIY",
        "colab": {
          "base_uri": "https://localhost:8080/"
        },
        "outputId": "b1a22d6d-30d1-4d2a-9f43-d1b3dfa6f9fc"
      },
      "outputs": [
        {
          "output_type": "stream",
          "name": "stdout",
          "text": [
            "a? > 3\n",
            "b? > 4\n",
            "c = 5.0\n"
          ]
        }
      ],
      "source": [
        "import math\n",
        "\n",
        "a = float(input(\"a? > \"))\n",
        "b = float(input(\"b? > \"))\n",
        "c = math.sqrt(math.pow(a, 2) + math.pow(b, 2))\n",
        "print(\"c =\", c)"
      ]
    },
    {
      "cell_type": "markdown",
      "source": [
        "Code 2\n",
        "\n",
        "This problem is contextualized around the books/movies of Harry Potter’s Hogwarts Houses\n",
        "\n",
        "As reference for the write-your-own later:\n",
        "* The `hogwarts()` function takes no parameters - i.e. there’s nothing inside the ()’s\n",
        "* The `hogwarts()` function returns a string, specifically the name a Hogwarts House\n",
        "  * The returned information is stored in hat_results to be used later in the program\n",
        "* The `hogwarts()` function has no side effect - i.e. nothing is printed to the screen"
      ],
      "metadata": {
        "id": "B83HRL3Mvqkx"
      }
    },
    {
      "cell_type": "code",
      "source": [
        "import random\n",
        "\n",
        "def hogwarts():\n",
        "  house = random.randrange(4)\n",
        "  if house == 0:\n",
        "\t  return \"hufflepuff\"\n",
        "  elif house == 1:\n",
        "\t  return \"gryffindor\"\n",
        "  elif house == 2:\n",
        "\t  return \"ravenclaw\"\n",
        "  else:\n",
        "\t  return \"slytherin\"\n",
        "\n",
        "hat_results = hogwarts()\n",
        "print(f\"You have been sorted by the hat into {hat_results.upper()}!\")"
      ],
      "metadata": {
        "id": "9hVVHbGVupjA",
        "colab": {
          "base_uri": "https://localhost:8080/"
        },
        "outputId": "6969cb4f-f8ad-4c47-c82d-ab47b4455808"
      },
      "execution_count": 9,
      "outputs": [
        {
          "output_type": "stream",
          "name": "stdout",
          "text": [
            "You have been sorted by the hat into HUFFLEPUFF!\n"
          ]
        }
      ]
    },
    {
      "cell_type": "markdown",
      "source": [
        "Code 3\n",
        "\n",
        "As reference for the write-your-own later:\n",
        "* `The find_radius()` function takes an int parameter (`area`)\n",
        "* `The find_radius()` function returns a float, specifically a calculation of the radius\n",
        "  * The returned information is stored in rad to be printed later in the program\n",
        "* The `find_radius()` function has no side effect - i.e. nothing is printed to the screen"
      ],
      "metadata": {
        "id": "N18V7ScGvrhp"
      }
    },
    {
      "cell_type": "code",
      "source": [
        "import math\n",
        "import random\n",
        "\n",
        "def find_radius(area):\n",
        "  return math.sqrt(area / math.pi)\n",
        "\n",
        "num = random.randrange(1,101)\n",
        "print(\"Given that area = pi * radius^2\")\n",
        "print(\"A circle with an area of {num}\")\n",
        "rad = find_radius(num)\n",
        "print(\"has a radius of {rad}\")"
      ],
      "metadata": {
        "id": "N2bFZauTu-o1"
      },
      "execution_count": null,
      "outputs": []
    },
    {
      "cell_type": "markdown",
      "source": [
        "# Write your own\n",
        "\n",
        "Write code snippets to do the following."
      ],
      "metadata": {
        "id": "vd0lsPpPwAMl"
      }
    },
    {
      "cell_type": "markdown",
      "source": [
        "Specification 4\n",
        "\n",
        "Define a function called coin_flip, where:\n",
        "* There are no parameters given\n",
        "* There is nothing returned from the function\n",
        "* There is a side effect of printing to the screen either `“Coin flip is heads.”` or `“Coin flip is tails.”`\n",
        "  * To do this: Generate a random number (0 or 1). If the number is 0, print one of the statements. If the number is 1, print the other statement."
      ],
      "metadata": {
        "id": "9ST_XykuwHft"
      }
    },
    {
      "cell_type": "code",
      "source": [],
      "metadata": {
        "id": "zjYH8SYbwGId"
      },
      "execution_count": null,
      "outputs": []
    }
  ]
}