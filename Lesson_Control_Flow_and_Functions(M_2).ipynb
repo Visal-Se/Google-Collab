{
  "nbformat": 4,
  "nbformat_minor": 0,
  "metadata": {
    "colab": {
      "provenance": [],
      "authorship_tag": "ABX9TyOfpzoHuiaByEJBZkv9xYUc",
      "include_colab_link": true
    },
    "kernelspec": {
      "name": "python3",
      "display_name": "Python 3"
    },
    "language_info": {
      "name": "python"
    }
  },
  "cells": [
    {
      "cell_type": "markdown",
      "metadata": {
        "id": "view-in-github",
        "colab_type": "text"
      },
      "source": [
        "<a href=\"https://colab.research.google.com/github/Visal-Se/Google-Collab/blob/main/Lesson_Control_Flow_and_Functions(M_2).ipynb\" target=\"_parent\"><img src=\"https://colab.research.google.com/assets/colab-badge.svg\" alt=\"Open In Colab\"/></a>"
      ]
    },
    {
      "cell_type": "markdown",
      "source": [
        "#(def) FUNCTION"
      ],
      "metadata": {
        "id": "KrW74OwiCdIg"
      }
    },
    {
      "cell_type": "code",
      "source": [
        "# this is a function we are defining called \"chorus\"\n",
        "# - this code is only being defined here, it will not run until invoked (called)\n",
        "# - it can be invoked (called) by saying \"chorus()\"\n",
        "# - the function will print the chorus of the song to the screen\n",
        "def chorus():\n",
        "  print(\"         <><        \")\n",
        "  print(\"Down by the bay\")\n",
        "  print(\"Where the watermelons grow\")\n",
        "  print(\"Back to my home\")\n",
        "  print(\"I dare not go\")\n",
        "  print(\"For if I do\")\n",
        "  print(\"My mother will say...\")\n",
        "  print(\"() () () () () () () () ()\")\n",
        "  print()\n",
        "\n",
        "# this is the \"MAIN\" of the program and where execution starts\n",
        "#------MAIN--------\n",
        "chorus()  # this is a functional call to chorus()\n",
        "print(\"Did you ever see a baboon, holding a balloon?\")\n",
        "chorus()\n",
        "print(\"Did you ever see a whale, with a polka-dot tail?\")\n",
        "chorus()\n",
        "print(\"Did you ever see a pig, wearing a wig?\")\n",
        "chorus()\n",
        "print(\"Did you ever see a goat, standing in a boat?\")\n",
        "chorus()\n",
        "print(\"Did you ever see a llama, wearing pajamas?\")"
      ],
      "metadata": {
        "id": "-7mngKq_4QLi",
        "colab": {
          "base_uri": "https://localhost:8080/"
        },
        "outputId": "8b0840e3-ab60-44e1-f013-a5d86e5507fd"
      },
      "execution_count": 5,
      "outputs": [
        {
          "output_type": "stream",
          "name": "stdout",
          "text": [
            "         <><        \n",
            "Down by the bay\n",
            "Where the watermelons grow\n",
            "Back to my home\n",
            "I dare not go\n",
            "For if I do\n",
            "My mother will say...\n",
            "() () () () () () () () ()\n",
            "\n",
            "Did you ever see a baboon, holding a balloon?\n",
            "         <><        \n",
            "Down by the bay\n",
            "Where the watermelons grow\n",
            "Back to my home\n",
            "I dare not go\n",
            "For if I do\n",
            "My mother will say...\n",
            "() () () () () () () () ()\n",
            "\n",
            "Did you ever see a whale, with a polka-dot tail?\n",
            "         <><        \n",
            "Down by the bay\n",
            "Where the watermelons grow\n",
            "Back to my home\n",
            "I dare not go\n",
            "For if I do\n",
            "My mother will say...\n",
            "() () () () () () () () ()\n",
            "\n",
            "Did you ever see a pig, wearing a wig?\n",
            "         <><        \n",
            "Down by the bay\n",
            "Where the watermelons grow\n",
            "Back to my home\n",
            "I dare not go\n",
            "For if I do\n",
            "My mother will say...\n",
            "() () () () () () () () ()\n",
            "\n",
            "Did you ever see a goat, standing in a boat?\n",
            "         <><        \n",
            "Down by the bay\n",
            "Where the watermelons grow\n",
            "Back to my home\n",
            "I dare not go\n",
            "For if I do\n",
            "My mother will say...\n",
            "() () () () () () () () ()\n",
            "\n",
            "Did you ever see a llama, wearing pajamas?\n"
          ]
        }
      ]
    }
  ]
}