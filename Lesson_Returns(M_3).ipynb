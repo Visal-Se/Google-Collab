{
  "nbformat": 4,
  "nbformat_minor": 0,
  "metadata": {
    "colab": {
      "provenance": [],
      "authorship_tag": "ABX9TyNXSzmJDUZCAMD6Xm9wHQOm",
      "include_colab_link": true
    },
    "kernelspec": {
      "name": "python3",
      "display_name": "Python 3"
    },
    "language_info": {
      "name": "python"
    }
  },
  "cells": [
    {
      "cell_type": "markdown",
      "metadata": {
        "id": "view-in-github",
        "colab_type": "text"
      },
      "source": [
        "<a href=\"https://colab.research.google.com/github/Visal-Se/Google-Collab/blob/main/Lesson_Returns(M_3).ipynb\" target=\"_parent\"><img src=\"https://colab.research.google.com/assets/colab-badge.svg\" alt=\"Open In Colab\"/></a>"
      ]
    },
    {
      "cell_type": "markdown",
      "source": [
        "#Returns Statement"
      ],
      "metadata": {
        "id": "kplSU65nBwqk"
      }
    },
    {
      "cell_type": "code",
      "execution_count": 5,
      "metadata": {
        "colab": {
          "base_uri": "https://localhost:8080/"
        },
        "id": "5lzvT1Haqxo_",
        "outputId": "ebe0ae02-719e-4ba3-ccc3-3c69c4a2e4d2"
      },
      "outputs": [
        {
          "output_type": "stream",
          "name": "stdout",
          "text": [
            "Cost of item 1 > $100\n",
            "Cost of item 2 > $80\n",
            "Cost of item 3 > $20.10\n",
            "The total of these values is $200.1\n"
          ]
        }
      ],
      "source": [
        "def calc_total(one, two, three):\n",
        "  total= one + two + three\n",
        "  return total\n",
        "\n",
        "#------MAIN---------\n",
        "item1 = float(input(\"Cost of item 1 > $\"))\n",
        "item2 = float(input(\"Cost of item 2 > $\"))\n",
        "item3 = float(input(\"Cost of item 3 > $\"))\n",
        "added = calc_total(item1, item2, item3)\n",
        "print(f\"The total of these values is ${added}\")"
      ]
    },
    {
      "cell_type": "code",
      "source": [
        "if added > 100:\n",
        "  print(\"These items cost over $100!\")"
      ],
      "metadata": {
        "colab": {
          "base_uri": "https://localhost:8080/"
        },
        "id": "H2HgULJfD5zC",
        "outputId": "ce5aaed5-4aec-44bf-d66a-9c20e4e189c4"
      },
      "execution_count": 6,
      "outputs": [
        {
          "output_type": "stream",
          "name": "stdout",
          "text": [
            "These items cost over $100!\n"
          ]
        }
      ]
    }
  ]
}