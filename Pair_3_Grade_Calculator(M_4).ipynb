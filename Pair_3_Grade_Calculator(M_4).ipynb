{
  "nbformat": 4,
  "nbformat_minor": 0,
  "metadata": {
    "colab": {
      "provenance": [],
      "include_colab_link": true
    },
    "kernelspec": {
      "name": "python3",
      "display_name": "Python 3"
    },
    "language_info": {
      "name": "python"
    }
  },
  "cells": [
    {
      "cell_type": "markdown",
      "metadata": {
        "id": "view-in-github",
        "colab_type": "text"
      },
      "source": [
        "<a href=\"https://colab.research.google.com/github/Visal-Se/Google-Collab/blob/main/Pair_3_Grade_Calculator(M_4).ipynb\" target=\"_parent\"><img src=\"https://colab.research.google.com/assets/colab-badge.svg\" alt=\"Open In Colab\"/></a>"
      ]
    },
    {
      "cell_type": "markdown",
      "source": [
        "**SAVE A COPY** OF THIS NOTEBOOK TO YOUR OWN DRIVE **BEFORE YOU START**"
      ],
      "metadata": {
        "id": "EwVAzSegl_pt"
      }
    },
    {
      "cell_type": "markdown",
      "source": [
        "# Code\n",
        "\n",
        "Correct the code below. There is 1 error per function. Record what you corrected at the top of each function after fixing."
      ],
      "metadata": {
        "id": "8K4c3GwwLZSy"
      }
    },
    {
      "cell_type": "code",
      "execution_count": 9,
      "metadata": {
        "id": "Hpwcvr9XLK7j",
        "colab": {
          "base_uri": "https://localhost:8080/"
        },
        "outputId": "d7bbc4b1-e30b-4c51-9bca-e4fc0c7b1b47"
      },
      "outputs": [
        {
          "output_type": "stream",
          "name": "stdout",
          "text": [
            "Enter 3 test scores:\n",
            "Enter your test score > 100\n",
            "Enter your test score > 90\n",
            "Enter your test score > 91\n",
            "\n",
            "Wow! You scored 90 or above on all your exams!\n",
            "Keep up the As!\n",
            "\n",
            "Your test average is 93.66666666666667\n",
            "You earned an A\n"
          ]
        }
      ],
      "source": [
        "# Error found in this function:\n",
        "# forget to add integer(int) before function input in line number 4\n",
        "def get_grade():\n",
        "  grade = int(input(\"Enter your test score > \"))\n",
        "  return grade\n",
        "\n",
        "# Error found in this function (do not combine the if statements with `and`):\n",
        "#space remove the extra space in line 13 (completed)\n",
        "def all_As(test1, test2, test3):\n",
        "  if 89 < test1:\n",
        "   if 89 < test2:\n",
        "    if 89 < test3:\n",
        "     print(\"Wow! You scored 90 or above on all your exams!\")\n",
        "  print(\"Keep up the As!\")\n",
        "  print()\n",
        "\n",
        "# Error found in this function:\n",
        "#\n",
        "def calc_average(test1, test2, test3):\n",
        "  return (test1 + test2 + test3) / 3\n",
        "\n",
        "# Error found in this function:\n",
        "# There must be only 1 if statement, and the rest would be elif statements all (completed)\n",
        "def letter_grade(grade):\n",
        "  if grade >= 90:\n",
        "    print(\"You earned an A\")\n",
        "  elif grade >= 80:\n",
        "    print(\"You earned an B\")\n",
        "  elif grade >= 70:\n",
        "    print(\"You earned an C\")\n",
        "  elif grade >= 60:\n",
        "    print(\"You earned an D\")\n",
        "  elif grade < 60:\n",
        "    print(\"You earned an F\")\n",
        "\n",
        "\n",
        "# THERE ARE NO ERRORS IN THE MAIN\n",
        "#-----main-----\n",
        "print(\"Enter 3 test scores:\")\n",
        "first_test = get_grade()\n",
        "second_test = get_grade()\n",
        "third_test = get_grade()\n",
        "\n",
        "print()\n",
        "all_As(first_test, second_test, third_test)\n",
        "average = calc_average(first_test, second_test, third_test)\n",
        "print(\"Your test average is\", average)\n",
        "letter_grade(average)"
      ]
    },
    {
      "cell_type": "markdown",
      "source": [
        "# Review\n",
        "\n",
        "When you get the program working properly, answer these questions:"
      ],
      "metadata": {
        "id": "znZi-oo5Ltgr"
      }
    },
    {
      "cell_type": "markdown",
      "source": [
        "## 1. List at least 3 different test cases that you might run your program with to make sure that it runs properly and why you would do that test case.\n",
        "\n",
        "  - e.g. tests = 100,90,95   --> Does the \"You scored all As\" message appear as expected?\n",
        "  - e.g. tests = 75, 80, 90  --> Is the average 81.66666666... and the letter grade B?\n",
        "\n",
        "---\n",
        "\n",
        "Your Answer:\n",
        "\n"
      ],
      "metadata": {
        "id": "tlg45Lu6L2ec"
      }
    },
    {
      "cell_type": "markdown",
      "source": [
        "## 2. Define the following vocabulary and give one example for each from the code above\n",
        "\n",
        "---\n",
        "\n",
        "Your Answer:\n",
        "\n",
        "| Vocabulary | Definition\n",
        "| --- | ---\n",
        "| VARIABLE |\n",
        "| FUNCTION DEFINITION |\n",
        "| FUNCTION CALL |\n",
        "| PARAMETER |\n",
        "| STRING |\n",
        "| ASSIGNMENT |\n",
        "| ORDER OF OPERATIONS |"
      ],
      "metadata": {
        "id": "aA210Fz_MEq1"
      }
    },
    {
      "cell_type": "markdown",
      "source": [
        "## 3. Does white space (blank lines [empty lines between methods, lines of code, etc], indentation [tabs], spacing between operators [4*5 vs 4 * 5]) matter in Python? When and why?\n",
        "\n",
        "---\n",
        "\n",
        "Your Answer:\n"
      ],
      "metadata": {
        "id": "S4-zKCc3Mhk2"
      }
    },
    {
      "cell_type": "markdown",
      "source": [
        "## 4. Give a version of code that would work for all_As using only one if statement.\n",
        "\n",
        "---\n",
        "\n",
        "Your Answer:"
      ],
      "metadata": {
        "id": "vG0Hib2uMqh5"
      }
    },
    {
      "cell_type": "code",
      "source": [],
      "metadata": {
        "id": "FDj6MJWSMvlZ"
      },
      "execution_count": null,
      "outputs": []
    },
    {
      "cell_type": "markdown",
      "source": [
        "## 5. Give a version of code that would work for letter_grade that uses an 'else'.\n",
        "\n",
        "---\n",
        "\n",
        "Your Answer:"
      ],
      "metadata": {
        "id": "K4AXyOIjM4th"
      }
    },
    {
      "cell_type": "code",
      "source": [],
      "metadata": {
        "id": "GLJ0yjlMM7sr"
      },
      "execution_count": null,
      "outputs": []
    },
    {
      "cell_type": "markdown",
      "source": [
        "## 6. Give a version of code that would work for letter_grade that uses exactly one 'if', any number of 'elif's, and no 'else'.\n",
        "\n",
        "---\n",
        "\n",
        "Your Answer:"
      ],
      "metadata": {
        "id": "eukd-WaqM8Wi"
      }
    },
    {
      "cell_type": "code",
      "source": [],
      "metadata": {
        "id": "ZiSONXtCNAnc"
      },
      "execution_count": null,
      "outputs": []
    }
  ]
}