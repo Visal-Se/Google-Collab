{
  "nbformat": 4,
  "nbformat_minor": 0,
  "metadata": {
    "colab": {
      "provenance": [],
      "include_colab_link": true
    },
    "kernelspec": {
      "name": "python3",
      "display_name": "Python 3"
    },
    "language_info": {
      "name": "python"
    }
  },
  "cells": [
    {
      "cell_type": "markdown",
      "metadata": {
        "id": "view-in-github",
        "colab_type": "text"
      },
      "source": [
        "<a href=\"https://colab.research.google.com/github/Visal-Se/Google-Collab/blob/main/Code_along_Activity_Tracker(M_6).ipynb\" target=\"_parent\"><img src=\"https://colab.research.google.com/assets/colab-badge.svg\" alt=\"Open In Colab\"/></a>"
      ]
    },
    {
      "cell_type": "markdown",
      "source": [],
      "metadata": {
        "id": "y1dcEuhlmcHz"
      }
    },
    {
      "cell_type": "markdown",
      "source": [
        "**SAVE A COPY** OF THIS NOTEBOOK TO YOUR OWN DRIVE **BEFORE YOU START**"
      ],
      "metadata": {
        "id": "ZlNOFomiVRPa"
      }
    },
    {
      "cell_type": "markdown",
      "source": [
        "## Activity Tracker"
      ],
      "metadata": {
        "id": "EkbHNLaqVU3G"
      }
    },
    {
      "cell_type": "markdown",
      "source": [
        "We are going to write a program together that will allow the user to track their movement and rest for a week.\n",
        "\n",
        "The program will:\n",
        "* ask the user for their amount of movement in minutes for 7 days\n",
        "\n",
        "At the end of the program, the following information will be displayed:\n",
        "* total number of minutes moved\n",
        "* number of rest days (days with 0 movement)\n",
        "* average movement per active day (days with some movement); displayed in hours and minutes"
      ],
      "metadata": {
        "id": "2Oei2YdDZ6yN"
      }
    },
    {
      "cell_type": "markdown",
      "source": [
        "## Function Definition"
      ],
      "metadata": {
        "id": "WOjUsV46ZAZU"
      }
    },
    {
      "cell_type": "code",
      "execution_count": 36,
      "metadata": {
        "id": "8Bzh5UEPUzJs"
      },
      "outputs": [],
      "source": [
        "def convert_mins(mins):\n",
        "  hours = mins // 60\n",
        "  leftover_mins = mins - (hours * 60)\n",
        "  return f\"{int(hours)} hours {int(leftover_mins)} mins\"\n",
        "\n",
        "\n",
        "def activity_tracker():\n",
        "  total_mins = 0\n",
        "  rest_days = 0       #counter variable\n",
        "\n",
        "\n",
        "  # ask for 7 days of movement\n",
        "  print(\"Enter your minutes of movement for the week:\")\n",
        "  for i in range(1,8):\n",
        "    movement = float(input(f\"Day {i} > \"))\n",
        "    total_mins = total_mins + movement\n",
        "    #print(total_mins)\n",
        "    if movement == 0:\n",
        "      rest_days += 1  # same as : \"rest_days = rest_days + 1\"\n",
        "\n",
        "\n",
        "  # display the total minutes moved and rest days\n",
        "  print()\n",
        "  print(f\"Total minutes moved: {total_mins}\")\n",
        "  print(f\"Rest days = {rest_days}\")\n",
        "\n",
        "\n",
        "  #calculate and display the average movement per day\n",
        "  active_days = 7 - rest_days\n",
        "  avg_movement = total_mins / active_days\n",
        "  print(f\"Average movement per active day = {convert_mins(avg_movement)}\")"
      ]
    },
    {
      "cell_type": "markdown",
      "source": [
        "## Function Call"
      ],
      "metadata": {
        "id": "smCfNDvQZCHN"
      }
    },
    {
      "cell_type": "code",
      "source": [
        "activity_tracker()"
      ],
      "metadata": {
        "id": "F0cEZXTZbwot",
        "colab": {
          "base_uri": "https://localhost:8080/"
        },
        "outputId": "82fa3417-8e77-411b-96e1-6496ffca2599"
      },
      "execution_count": 37,
      "outputs": [
        {
          "output_type": "stream",
          "name": "stdout",
          "text": [
            "Enter your minutes of movement for the week:\n",
            "Day 1 > 100\n",
            "Day 2 > 100\n",
            "Day 3 > 35\n",
            "Day 4 > 25\n",
            "Day 5 > 0\n",
            "Day 6 > 0\n",
            "Day 7 > 200\n",
            "\n",
            "Total minutes moved: 460.0\n",
            "Rest days = 2\n",
            "Average movement per active day = 1 hours 32 mins\n"
          ]
        }
      ]
    }
  ]
}