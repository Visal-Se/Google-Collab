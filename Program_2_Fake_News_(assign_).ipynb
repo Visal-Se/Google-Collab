{
  "cells": [
    {
      "cell_type": "markdown",
      "metadata": {
        "id": "view-in-github",
        "colab_type": "text"
      },
      "source": [
        "<a href=\"https://colab.research.google.com/github/Visal-Se/Google-Collab/blob/main/Program_2_Fake_News_(assign_).ipynb\" target=\"_parent\"><img src=\"https://colab.research.google.com/assets/colab-badge.svg\" alt=\"Open In Colab\"/></a>"
      ]
    },
    {
      "cell_type": "code",
      "execution_count": 20,
      "metadata": {
        "colab": {
          "base_uri": "https://localhost:8080/"
        },
        "id": "LIas_L_XCoj8",
        "outputId": "bdce0415-639a-43fb-a98c-1d3cac3bd728"
      },
      "outputs": [
        {
          "output_type": "stream",
          "name": "stdout",
          "text": [
            "THE UNTRUE NEWS!\n",
            "Today's article needs your help!\n",
            "\n",
            "Please enter the following information:\n",
            "name 1 > justin\n",
            "JUSTIN\n",
            "name 2 > carl\n",
            "CARL\n",
            "date > november 18, 1999\n",
            "NOVEMBER 18, 1999\n",
            "verb > play\n",
            "PLAY\n",
            "number > 5\n",
            "food > pizza\n",
            "PIZZA\n",
            "place > house\n",
            "HOUSE\n",
            "adjective > huge\n",
            "HUGE\n",
            "sport > football\n",
            "FOOTBALL\n",
            "\n",
            "===THE UNTRUE NEWS===\n",
            "========NOVEMBER 18, 1999=========\n",
            "\n",
            "Last week, JUSTIN went to his friend HOUSE named CARL. Both of them JUSTIN and CARL have been friend for over 5 years since they were both at High-School. After JUSTIN arrived at CARL house, he couldn't see CARL. Suddenly, CARL mom has telling JUSTIN that CARL has went to PLAY FOOTBALL already, since 5 p.m. Later, After leaving CARL house, JUSTIN went to the FOOTBALL field and PLAY FOOTBALL together with his friend. They were all having fun together!\n"
          ]
        }
      ],
      "source": [
        "print(\"THE UNTRUE NEWS!\")\n",
        "print(\"Today's article needs your help!\")\n",
        "print()\n",
        "print(\"Please enter the following information:\")\n",
        "name_1= input(\"name 1 > \")\n",
        "uppercase_output= name_1.upper()\n",
        "print(uppercase_output)\n",
        "\n",
        "name_2= input(\"name 2 > \")\n",
        "uppercase_output= name_2.upper()\n",
        "print(uppercase_output)\n",
        "\n",
        "date= (input(\"date > \"))\n",
        "uppercase_output= date.upper()\n",
        "print(uppercase_output)\n",
        "\n",
        "verb= input(\"verb > \")\n",
        "uppercase_output= verb.upper()\n",
        "print(uppercase_output)\n",
        "\n",
        "number= int(input(\"number > \"))\n",
        "\n",
        "food= input(\"food > \")\n",
        "uppercase_output= food.upper()\n",
        "print(uppercase_output)\n",
        "\n",
        "place= input(\"place > \")\n",
        "uppercase_output= place.upper()\n",
        "print(uppercase_output)\n",
        "\n",
        "adjective= input(\"adjective > \")\n",
        "uppercase_output= adjective.upper()\n",
        "print(uppercase_output)\n",
        "\n",
        "sport= input(\"sport > \")\n",
        "uppercase_output= sport.upper()\n",
        "print(uppercase_output)\n",
        "\n",
        "print()\n",
        "print(\"===THE UNTRUE NEWS===\")\n",
        "print(f\"========{date.upper()}=========\")\n",
        "print()\n",
        "print(f\"Last week, {name_1.upper()} went to his friend {place.upper()} named {name_2.upper()}. Both of them {name_1.upper()} and {name_2.upper()} have been friend for over {number} years since they were both at High-School. After {name_1.upper()} arrived at {name_2.upper()} house, he couldn't see {name_2.upper()}. Suddenly, {name_2.upper()} mom has telling {name_1.upper()} that {name_2.upper()} has went to {verb.upper()} {sport.upper()} already, since {number} p.m. Later, After leaving {name_2.upper()} house, {name_1.upper()} went to the {sport.upper()} field and {verb.upper()} {sport.upper()} together with his friend. They were all having fun together!\")"
      ]
    }
  ],
  "metadata": {
    "colab": {
      "provenance": [],
      "authorship_tag": "ABX9TyNdIHJEhk/sJyqVxpMSBfBw",
      "include_colab_link": true
    },
    "kernelspec": {
      "display_name": "Python 3",
      "name": "python3"
    },
    "language_info": {
      "name": "python"
    }
  },
  "nbformat": 4,
  "nbformat_minor": 0
}