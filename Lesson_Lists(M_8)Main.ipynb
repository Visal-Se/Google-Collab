{
  "nbformat": 4,
  "nbformat_minor": 0,
  "metadata": {
    "colab": {
      "provenance": [],
      "authorship_tag": "ABX9TyPDba8AEkQ4UKx2SPKPkXEx",
      "include_colab_link": true
    },
    "kernelspec": {
      "name": "python3",
      "display_name": "Python 3"
    },
    "language_info": {
      "name": "python"
    }
  },
  "cells": [
    {
      "cell_type": "markdown",
      "metadata": {
        "id": "view-in-github",
        "colab_type": "text"
      },
      "source": [
        "<a href=\"https://colab.research.google.com/github/Visal-Se/Google-Collab/blob/main/Lesson_Lists(M_8)Main.ipynb\" target=\"_parent\"><img src=\"https://colab.research.google.com/assets/colab-badge.svg\" alt=\"Open In Colab\"/></a>"
      ]
    },
    {
      "cell_type": "markdown",
      "source": [
        "#Lists"
      ],
      "metadata": {
        "id": "p_wDf0y7_qia"
      }
    },
    {
      "cell_type": "markdown",
      "source": [
        "Creating lists"
      ],
      "metadata": {
        "id": "4GAJ60Hy_56D"
      }
    },
    {
      "cell_type": "code",
      "execution_count": 103,
      "metadata": {
        "colab": {
          "base_uri": "https://localhost:8080/"
        },
        "id": "SNZMcx-s_WBI",
        "outputId": "33a8d6af-4307-4c66-f83f-fd529eada1dd"
      },
      "outputs": [
        {
          "output_type": "stream",
          "name": "stdout",
          "text": [
            "['Sally', 'Bob', 'Yohan']\n"
          ]
        }
      ],
      "source": [
        "names = [\"Sally\", \"Bob\", \"Yohan\"]\n",
        "print(names)"
      ]
    },
    {
      "cell_type": "code",
      "source": [
        "for name in names:\n",
        " print(f\"I've got {name}.\")"
      ],
      "metadata": {
        "colab": {
          "base_uri": "https://localhost:8080/"
        },
        "id": "7RBUfCotIBB9",
        "outputId": "a98aa667-e229-4714-bb27-0871b656d1c9"
      },
      "execution_count": 109,
      "outputs": [
        {
          "output_type": "stream",
          "name": "stdout",
          "text": [
            "I've got Sally.\n",
            "I've got Bob.\n",
            "I've got Yohan.\n"
          ]
        }
      ]
    },
    {
      "cell_type": "code",
      "source": [
        "ages = []\n",
        "print(ages)"
      ],
      "metadata": {
        "colab": {
          "base_uri": "https://localhost:8080/"
        },
        "id": "k2oDK5zJA9qe",
        "outputId": "6731059e-2c87-4865-cddd-5defb228ad3d"
      },
      "execution_count": null,
      "outputs": [
        {
          "output_type": "stream",
          "name": "stdout",
          "text": [
            "[]\n"
          ]
        }
      ]
    },
    {
      "cell_type": "code",
      "source": [
        "colors = input(\"Enter colors seperated by a space > \").split()\n",
        "print(colors)"
      ],
      "metadata": {
        "colab": {
          "base_uri": "https://localhost:8080/"
        },
        "id": "veNhJP5eBzQ3",
        "outputId": "b9dea9ab-e743-4d11-f468-59c7d565461e"
      },
      "execution_count": null,
      "outputs": [
        {
          "output_type": "stream",
          "name": "stdout",
          "text": [
            "Enter colors seperated by a space > red orange white\n",
            "['red', 'orange', 'white']\n"
          ]
        }
      ]
    },
    {
      "cell_type": "markdown",
      "source": [
        "Length of a list"
      ],
      "metadata": {
        "id": "YLJu9edN_8Q4"
      }
    },
    {
      "cell_type": "code",
      "source": [
        "len(names) #Because there are 3 elements of names in the output."
      ],
      "metadata": {
        "colab": {
          "base_uri": "https://localhost:8080/"
        },
        "id": "bwjwQIys_7od",
        "outputId": "82ef17eb-af76-41ef-ef07-df36da9de37f"
      },
      "execution_count": null,
      "outputs": [
        {
          "output_type": "execute_result",
          "data": {
            "text/plain": [
              "3"
            ]
          },
          "metadata": {},
          "execution_count": 9
        }
      ]
    },
    {
      "cell_type": "markdown",
      "source": [
        "Adding to lists"
      ],
      "metadata": {
        "id": "aEGHPXyl__qV"
      }
    },
    {
      "cell_type": "code",
      "source": [
        "print(ages)\n",
        "ages.append(100) #append means add something to the end of our lists\n",
        "ages.append(30)\n",
        "ages.append(24)\n",
        "print(ages)"
      ],
      "metadata": {
        "colab": {
          "base_uri": "https://localhost:8080/"
        },
        "id": "GQMsm34gEo40",
        "outputId": "41e20fe2-daf0-4d79-c605-ee8a8f343d7e"
      },
      "execution_count": null,
      "outputs": [
        {
          "output_type": "stream",
          "name": "stdout",
          "text": [
            "[100, 100, 100, 100, 100, 100, 100, 100, 100, 100, 100, 30, 24, 100, 30, 24, 100, 30, 24, 100, 30, 24, 100, 30, 24, 100, 30, 24, 100, 30, 24, 100, 30, 24]\n",
            "[100, 100, 100, 100, 100, 100, 100, 100, 100, 100, 100, 30, 24, 100, 30, 24, 100, 30, 24, 100, 30, 24, 100, 30, 24, 100, 30, 24, 100, 30, 24, 100, 30, 24, 100, 30, 24]\n"
          ]
        }
      ]
    },
    {
      "cell_type": "code",
      "source": [
        "ages = [1, 1, 1]\n",
        "print(ages)"
      ],
      "metadata": {
        "colab": {
          "base_uri": "https://localhost:8080/"
        },
        "id": "idSWvs1YFmyq",
        "outputId": "b37e150c-0a0d-488f-92e9-f9d256a2ca23"
      },
      "execution_count": null,
      "outputs": [
        {
          "output_type": "stream",
          "name": "stdout",
          "text": [
            "[1, 1, 1]\n"
          ]
        }
      ]
    },
    {
      "cell_type": "markdown",
      "source": [
        "Accessing elements in lists"
      ],
      "metadata": {
        "id": "36rXTRgBACvi"
      }
    },
    {
      "cell_type": "code",
      "source": [
        "colors[0]"
      ],
      "metadata": {
        "colab": {
          "base_uri": "https://localhost:8080/",
          "height": 35
        },
        "id": "HjYyG3lOF4YT",
        "outputId": "35524b94-bdb2-4c53-bf90-49694a6a9016"
      },
      "execution_count": null,
      "outputs": [
        {
          "output_type": "execute_result",
          "data": {
            "text/plain": [
              "'red'"
            ],
            "application/vnd.google.colaboratory.intrinsic+json": {
              "type": "string"
            }
          },
          "metadata": {},
          "execution_count": 36
        }
      ]
    },
    {
      "cell_type": "code",
      "source": [
        "colors[2]"
      ],
      "metadata": {
        "colab": {
          "base_uri": "https://localhost:8080/",
          "height": 35
        },
        "id": "5gUj3FG7GUhY",
        "outputId": "7f524672-278c-4cd3-c004-80a8bbfaf14c"
      },
      "execution_count": null,
      "outputs": [
        {
          "output_type": "execute_result",
          "data": {
            "text/plain": [
              "'white'"
            ],
            "application/vnd.google.colaboratory.intrinsic+json": {
              "type": "string"
            }
          },
          "metadata": {},
          "execution_count": 38
        }
      ]
    },
    {
      "cell_type": "code",
      "source": [
        "colors[-1]"
      ],
      "metadata": {
        "colab": {
          "base_uri": "https://localhost:8080/",
          "height": 35
        },
        "id": "jOr6tBjDGbcK",
        "outputId": "a0bbedbb-b3a8-4c9e-a521-7cb4b675d65b"
      },
      "execution_count": null,
      "outputs": [
        {
          "output_type": "execute_result",
          "data": {
            "text/plain": [
              "'white'"
            ],
            "application/vnd.google.colaboratory.intrinsic+json": {
              "type": "string"
            }
          },
          "metadata": {},
          "execution_count": 39
        }
      ]
    },
    {
      "cell_type": "markdown",
      "source": [
        "Printing lists"
      ],
      "metadata": {
        "id": "ydg13niEAGkD"
      }
    },
    {
      "cell_type": "code",
      "source": [
        "print(names)"
      ],
      "metadata": {
        "colab": {
          "base_uri": "https://localhost:8080/"
        },
        "id": "qQ3Z8rHBGxnb",
        "outputId": "96e400a4-286d-49ed-9c86-0d2195eda7b1"
      },
      "execution_count": null,
      "outputs": [
        {
          "output_type": "stream",
          "name": "stdout",
          "text": [
            "['Sally', 'Bob', 'Yohan']\n"
          ]
        }
      ]
    },
    {
      "cell_type": "code",
      "source": [
        "for i in range(len(names)):\n",
        "  print(names[i])"
      ],
      "metadata": {
        "colab": {
          "base_uri": "https://localhost:8080/"
        },
        "id": "mxLHEkuEHBQ3",
        "outputId": "359fe607-3f69-4f69-a966-bda241561f8e"
      },
      "execution_count": null,
      "outputs": [
        {
          "output_type": "stream",
          "name": "stdout",
          "text": [
            "Sally\n",
            "Bob\n",
            "Yohan\n"
          ]
        }
      ]
    },
    {
      "cell_type": "code",
      "source": [
        "for name in names:\n",
        "  print(name)"
      ],
      "metadata": {
        "colab": {
          "base_uri": "https://localhost:8080/"
        },
        "id": "Y-Lu60lfHuD5",
        "outputId": "df95e544-2682-401a-a7ac-b1f2dbb638bf"
      },
      "execution_count": null,
      "outputs": [
        {
          "output_type": "stream",
          "name": "stdout",
          "text": [
            "Sally\n",
            "Bob\n",
            "Yohan\n"
          ]
        }
      ]
    },
    {
      "cell_type": "markdown",
      "source": [
        "List operations"
      ],
      "metadata": {
        "id": "33Zgt1SDAIgU"
      }
    },
    {
      "cell_type": "code",
      "source": [
        "numbers = [10, 90, 40, 1, 2, -5 ,-2]"
      ],
      "metadata": {
        "id": "hPrIabAs6tjs"
      },
      "execution_count": null,
      "outputs": []
    },
    {
      "cell_type": "code",
      "source": [
        "if 90 in numbers:\n",
        "  print(\"90 is there!\")"
      ],
      "metadata": {
        "colab": {
          "base_uri": "https://localhost:8080/"
        },
        "id": "zbkFv51A6tav",
        "outputId": "58eb835e-ce18-4d1c-aa07-575468e6521b"
      },
      "execution_count": null,
      "outputs": [
        {
          "output_type": "stream",
          "name": "stdout",
          "text": [
            "90 is there\n"
          ]
        }
      ]
    },
    {
      "cell_type": "code",
      "source": [
        "names"
      ],
      "metadata": {
        "colab": {
          "base_uri": "https://localhost:8080/"
        },
        "id": "w6BmxSfA-Gum",
        "outputId": "a0360421-eac5-4327-b12c-0133935b65db"
      },
      "execution_count": null,
      "outputs": [
        {
          "output_type": "execute_result",
          "data": {
            "text/plain": [
              "['Sally', 'Bob', 'Yohan']"
            ]
          },
          "metadata": {},
          "execution_count": 7
        }
      ]
    },
    {
      "cell_type": "code",
      "source": [
        "\"Bob\" in names"
      ],
      "metadata": {
        "colab": {
          "base_uri": "https://localhost:8080/"
        },
        "id": "jBO0aIRt-MqP",
        "outputId": "e5853632-0f65-4ca8-ec56-4dc07edaf413"
      },
      "execution_count": null,
      "outputs": [
        {
          "output_type": "execute_result",
          "data": {
            "text/plain": [
              "True"
            ]
          },
          "metadata": {},
          "execution_count": 10
        }
      ]
    },
    {
      "cell_type": "code",
      "source": [
        "\"Jack\" not in names"
      ],
      "metadata": {
        "colab": {
          "base_uri": "https://localhost:8080/"
        },
        "id": "awka7I5w-XJa",
        "outputId": "ef208aac-afbb-4428-bdc2-7331b7913d5c"
      },
      "execution_count": null,
      "outputs": [
        {
          "output_type": "execute_result",
          "data": {
            "text/plain": [
              "True"
            ]
          },
          "metadata": {},
          "execution_count": 13
        }
      ]
    },
    {
      "cell_type": "code",
      "source": [
        "max(numbers) #max: stands for \"maximum\""
      ],
      "metadata": {
        "colab": {
          "base_uri": "https://localhost:8080/"
        },
        "id": "GVBvMrrs-evG",
        "outputId": "b23a271f-4c86-47a6-930f-72ed82363e09"
      },
      "execution_count": null,
      "outputs": [
        {
          "output_type": "execute_result",
          "data": {
            "text/plain": [
              "90"
            ]
          },
          "metadata": {},
          "execution_count": 22
        }
      ]
    },
    {
      "cell_type": "code",
      "source": [
        "min(numbers) #min: stands for \"minimum\""
      ],
      "metadata": {
        "colab": {
          "base_uri": "https://localhost:8080/"
        },
        "id": "h8i8wHw2-4qg",
        "outputId": "b8491273-3655-497c-8972-4f8e180914dc"
      },
      "execution_count": null,
      "outputs": [
        {
          "output_type": "execute_result",
          "data": {
            "text/plain": [
              "-5"
            ]
          },
          "metadata": {},
          "execution_count": 23
        }
      ]
    },
    {
      "cell_type": "code",
      "source": [
        "if \"Bob\" in names:\n",
        "  print(names.index(\"Bob\"))"
      ],
      "metadata": {
        "colab": {
          "base_uri": "https://localhost:8080/"
        },
        "id": "S-dmMeGt_ESG",
        "outputId": "9eb10569-056e-42be-86e9-5b80ae65427e"
      },
      "execution_count": null,
      "outputs": [
        {
          "output_type": "stream",
          "name": "stdout",
          "text": [
            "1\n"
          ]
        }
      ]
    },
    {
      "cell_type": "code",
      "source": [
        "names.count(\"Sally\")"
      ],
      "metadata": {
        "colab": {
          "base_uri": "https://localhost:8080/"
        },
        "id": "cdEI5PnA_70T",
        "outputId": "c96fd1c5-95ec-406a-efeb-0e6f5d8077ee"
      },
      "execution_count": null,
      "outputs": [
        {
          "output_type": "execute_result",
          "data": {
            "text/plain": [
              "1"
            ]
          },
          "metadata": {},
          "execution_count": 20
        }
      ]
    },
    {
      "cell_type": "code",
      "source": [
        "my_list = [1, 1, 2, 2, 2, 2, 2 ,2, 5, 6, 2, 6]\n",
        "my_list.count(2)"
      ],
      "metadata": {
        "colab": {
          "base_uri": "https://localhost:8080/"
        },
        "id": "rZPRkxvzAHLU",
        "outputId": "a70aaa9f-4cfb-4f71-ff41-6ec8a367538b"
      },
      "execution_count": null,
      "outputs": [
        {
          "output_type": "execute_result",
          "data": {
            "text/plain": [
              "7"
            ]
          },
          "metadata": {},
          "execution_count": 24
        }
      ]
    }
  ]
}