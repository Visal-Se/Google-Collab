{
  "nbformat": 4,
  "nbformat_minor": 0,
  "metadata": {
    "colab": {
      "provenance": [],
      "authorship_tag": "ABX9TyNG6q7X1eeDJuG2sh4ZFDze",
      "include_colab_link": true
    },
    "kernelspec": {
      "name": "python3",
      "display_name": "Python 3"
    },
    "language_info": {
      "name": "python"
    }
  },
  "cells": [
    {
      "cell_type": "markdown",
      "metadata": {
        "id": "view-in-github",
        "colab_type": "text"
      },
      "source": [
        "<a href=\"https://colab.research.google.com/github/Visal-Se/Google-Collab/blob/main/Program%201%20-%20ASCII%20Art.ipynb\" target=\"_parent\"><img src=\"https://colab.research.google.com/assets/colab-badge.svg\" alt=\"Open In Colab\"/></a>"
      ]
    },
    {
      "cell_type": "markdown",
      "source": [
        "# A house and the owner"
      ],
      "metadata": {
        "id": "nZBmzzgNqfmY"
      }
    },
    {
      "cell_type": "code",
      "execution_count": null,
      "metadata": {
        "colab": {
          "base_uri": "https://localhost:8080/"
        },
        "id": "PMnTInropgF5",
        "outputId": "06168daa-2f3d-4356-9189-fb5c491dcb79"
      },
      "outputs": [
        {
          "output_type": "stream",
          "name": "stdout",
          "text": [
            "  /===========\\  \n",
            " /#############\\ \n",
            "/===============\\      ****\n",
            " |    _____    |       (oo)\n",
            " |    |   |    |       /||\\\n",
            " |____|__*|____|        /\\\n"
          ]
        }
      ],
      "source": [
        "#this prints is showing the pics of a house and a person\n",
        "print(\"  /===========\\\\  \")\n",
        "print(\" /#############\\\\ \")\n",
        "print(\"/===============\\\\      ****\")\n",
        "print(\" |    _____    |       (oo)\")\n",
        "print(\" |    |   |    |       /||\\\\\")\n",
        "print(\" |____|__*|____|        /\\\\\")"
      ]
    }
  ]
}