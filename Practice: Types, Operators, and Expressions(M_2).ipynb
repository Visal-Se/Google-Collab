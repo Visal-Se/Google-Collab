{
  "nbformat": 4,
  "nbformat_minor": 0,
  "metadata": {
    "colab": {
      "provenance": [],
      "include_colab_link": true
    },
    "kernelspec": {
      "name": "python3",
      "display_name": "Python 3"
    },
    "language_info": {
      "name": "python"
    }
  },
  "cells": [
    {
      "cell_type": "markdown",
      "metadata": {
        "id": "view-in-github",
        "colab_type": "text"
      },
      "source": [
        "<a href=\"https://colab.research.google.com/github/Visal-Se/Google-Collab/blob/main/Practice%3A%20Types%2C%20Operators%2C%20and%20Expressions(M_2).ipynb\" target=\"_parent\"><img src=\"https://colab.research.google.com/assets/colab-badge.svg\" alt=\"Open In Colab\"/></a>"
      ]
    },
    {
      "cell_type": "markdown",
      "source": [
        "**SAVE A COPY** OF THIS NOTEBOOK TO YOUR OWN DRIVE **BEFORE YOU START**"
      ],
      "metadata": {
        "id": "EQ8e16Xcmm-L"
      }
    },
    {
      "cell_type": "markdown",
      "source": [
        "# Types\n",
        "Consider the following Python fragments and predict the result. After you predict the result, try the code fragment to if you are correct.\n",
        "\n",
        "Decide which you think is the result: `int`, `float`, or `str`"
      ],
      "metadata": {
        "id": "mSjp1SpSondG"
      }
    },
    {
      "cell_type": "code",
      "execution_count": 1,
      "metadata": {
        "id": "ZTSjQ_ogodni",
        "colab": {
          "base_uri": "https://localhost:8080/"
        },
        "outputId": "516378f3-2d44-4a64-b047-3eb7c5a343ef"
      },
      "outputs": [
        {
          "output_type": "execute_result",
          "data": {
            "text/plain": [
              "int"
            ]
          },
          "metadata": {},
          "execution_count": 1
        }
      ],
      "source": [
        "type(65)"
      ]
    },
    {
      "cell_type": "code",
      "source": [
        "type(\"65\")"
      ],
      "metadata": {
        "id": "cZDQ1htNo2VP",
        "colab": {
          "base_uri": "https://localhost:8080/"
        },
        "outputId": "5967bfa9-a150-42c1-81ea-48772c568970"
      },
      "execution_count": 2,
      "outputs": [
        {
          "output_type": "execute_result",
          "data": {
            "text/plain": [
              "str"
            ]
          },
          "metadata": {},
          "execution_count": 2
        }
      ]
    },
    {
      "cell_type": "code",
      "source": [
        "type(65.0)"
      ],
      "metadata": {
        "id": "aEuton1ko3yJ",
        "colab": {
          "base_uri": "https://localhost:8080/"
        },
        "outputId": "0e7a8d51-eab4-4f10-c2da-760561a0a9f9"
      },
      "execution_count": 3,
      "outputs": [
        {
          "output_type": "execute_result",
          "data": {
            "text/plain": [
              "float"
            ]
          },
          "metadata": {},
          "execution_count": 3
        }
      ]
    },
    {
      "cell_type": "code",
      "source": [
        "type('65')"
      ],
      "metadata": {
        "id": "ltDs9Gcho5sL",
        "colab": {
          "base_uri": "https://localhost:8080/"
        },
        "outputId": "1f4befc0-230f-42ef-ae9e-58a2b8642960"
      },
      "execution_count": 4,
      "outputs": [
        {
          "output_type": "execute_result",
          "data": {
            "text/plain": [
              "str"
            ]
          },
          "metadata": {},
          "execution_count": 4
        }
      ]
    },
    {
      "cell_type": "code",
      "source": [
        "type(-9)"
      ],
      "metadata": {
        "id": "yNpnoHBao8J3",
        "colab": {
          "base_uri": "https://localhost:8080/"
        },
        "outputId": "bdbfd520-9737-48b7-fb7b-4406ee8d2f3d"
      },
      "execution_count": 5,
      "outputs": [
        {
          "output_type": "execute_result",
          "data": {
            "text/plain": [
              "int"
            ]
          },
          "metadata": {},
          "execution_count": 5
        }
      ]
    },
    {
      "cell_type": "markdown",
      "source": [
        "# Expressions\n",
        "\n",
        "Consider the following Python fragments and predict the result."
      ],
      "metadata": {
        "id": "jGEyTLuko_UT"
      }
    },
    {
      "cell_type": "code",
      "source": [
        "7 + 2"
      ],
      "metadata": {
        "id": "jFOvX_zYpMAD",
        "colab": {
          "base_uri": "https://localhost:8080/"
        },
        "outputId": "fd9f1e9f-3041-4c42-c2de-2bfffd889f8f"
      },
      "execution_count": 6,
      "outputs": [
        {
          "output_type": "execute_result",
          "data": {
            "text/plain": [
              "9"
            ]
          },
          "metadata": {},
          "execution_count": 6
        }
      ]
    },
    {
      "cell_type": "code",
      "source": [
        "90 - 100"
      ],
      "metadata": {
        "id": "5dDR5gpcpO2h",
        "colab": {
          "base_uri": "https://localhost:8080/"
        },
        "outputId": "8abd2c6f-cd31-49a7-c3f1-a83ae91bbe7e"
      },
      "execution_count": 7,
      "outputs": [
        {
          "output_type": "execute_result",
          "data": {
            "text/plain": [
              "-10"
            ]
          },
          "metadata": {},
          "execution_count": 7
        }
      ]
    },
    {
      "cell_type": "code",
      "source": [
        "7 / 2"
      ],
      "metadata": {
        "id": "u7I10AMCpP7c",
        "colab": {
          "base_uri": "https://localhost:8080/"
        },
        "outputId": "28ead603-fbe7-466d-af62-926894658b21"
      },
      "execution_count": 8,
      "outputs": [
        {
          "output_type": "execute_result",
          "data": {
            "text/plain": [
              "3.5"
            ]
          },
          "metadata": {},
          "execution_count": 8
        }
      ]
    },
    {
      "cell_type": "code",
      "source": [
        "7 // 2"
      ],
      "metadata": {
        "id": "WGZpaSaypU60",
        "colab": {
          "base_uri": "https://localhost:8080/"
        },
        "outputId": "32c3c4b5-a9df-42e7-dbc6-102503e1c144"
      },
      "execution_count": 9,
      "outputs": [
        {
          "output_type": "execute_result",
          "data": {
            "text/plain": [
              "3"
            ]
          },
          "metadata": {},
          "execution_count": 9
        }
      ]
    },
    {
      "cell_type": "code",
      "source": [
        "7.0 // 2"
      ],
      "metadata": {
        "id": "oHMfH6FGpWRj",
        "colab": {
          "base_uri": "https://localhost:8080/"
        },
        "outputId": "2837b218-b1e1-4613-e14a-824f83f48586"
      },
      "execution_count": 10,
      "outputs": [
        {
          "output_type": "execute_result",
          "data": {
            "text/plain": [
              "3.0"
            ]
          },
          "metadata": {},
          "execution_count": 10
        }
      ]
    },
    {
      "cell_type": "code",
      "source": [
        "7 % 2"
      ],
      "metadata": {
        "id": "m_X_qA3jpYyY",
        "colab": {
          "base_uri": "https://localhost:8080/"
        },
        "outputId": "122c43b5-93e7-4350-8518-39d1fa309652"
      },
      "execution_count": 11,
      "outputs": [
        {
          "output_type": "execute_result",
          "data": {
            "text/plain": [
              "1"
            ]
          },
          "metadata": {},
          "execution_count": 11
        }
      ]
    },
    {
      "cell_type": "code",
      "source": [
        "182 % 10"
      ],
      "metadata": {
        "id": "5Q3DCYZWpaFg",
        "colab": {
          "base_uri": "https://localhost:8080/"
        },
        "outputId": "eb0aaa4a-ec97-4ffd-e767-c7e7419786e9"
      },
      "execution_count": 12,
      "outputs": [
        {
          "output_type": "execute_result",
          "data": {
            "text/plain": [
              "2"
            ]
          },
          "metadata": {},
          "execution_count": 12
        }
      ]
    },
    {
      "cell_type": "code",
      "source": [
        "2 + 8 / 3"
      ],
      "metadata": {
        "id": "h4yA1l00pcEj",
        "colab": {
          "base_uri": "https://localhost:8080/"
        },
        "outputId": "05ac3a0c-3265-45e3-8e12-9c0177c8937f"
      },
      "execution_count": 13,
      "outputs": [
        {
          "output_type": "execute_result",
          "data": {
            "text/plain": [
              "4.666666666666666"
            ]
          },
          "metadata": {},
          "execution_count": 13
        }
      ]
    },
    {
      "cell_type": "code",
      "source": [
        "2 ** 5"
      ],
      "metadata": {
        "id": "urSAExjupd9X",
        "colab": {
          "base_uri": "https://localhost:8080/"
        },
        "outputId": "ffb7ede0-acf7-4d90-f0f3-dad45c68edf9"
      },
      "execution_count": 14,
      "outputs": [
        {
          "output_type": "execute_result",
          "data": {
            "text/plain": [
              "32"
            ]
          },
          "metadata": {},
          "execution_count": 14
        }
      ]
    },
    {
      "cell_type": "code",
      "source": [
        "int(8.0 / 2)"
      ],
      "metadata": {
        "id": "IMOVi8gfpfBq",
        "colab": {
          "base_uri": "https://localhost:8080/"
        },
        "outputId": "1ff55940-cf35-4aaa-d502-b3057b4f9a78"
      },
      "execution_count": 15,
      "outputs": [
        {
          "output_type": "execute_result",
          "data": {
            "text/plain": [
              "4"
            ]
          },
          "metadata": {},
          "execution_count": 15
        }
      ]
    },
    {
      "cell_type": "code",
      "source": [
        "int(-9.9)"
      ],
      "metadata": {
        "id": "qIkgD3U3phdF",
        "colab": {
          "base_uri": "https://localhost:8080/"
        },
        "outputId": "dd6d000b-6bb3-44bd-e29b-afe56e7b26af"
      },
      "execution_count": 16,
      "outputs": [
        {
          "output_type": "execute_result",
          "data": {
            "text/plain": [
              "-9"
            ]
          },
          "metadata": {},
          "execution_count": 16
        }
      ]
    },
    {
      "cell_type": "code",
      "source": [
        "-55"
      ],
      "metadata": {
        "id": "3K4EfZxkpkHN",
        "colab": {
          "base_uri": "https://localhost:8080/"
        },
        "outputId": "8d025971-1e7f-4a1a-ae73-801a1aa2f5d9"
      },
      "execution_count": 17,
      "outputs": [
        {
          "output_type": "execute_result",
          "data": {
            "text/plain": [
              "-55"
            ]
          },
          "metadata": {},
          "execution_count": 17
        }
      ]
    },
    {
      "cell_type": "code",
      "source": [
        "\"hi \" * 3"
      ],
      "metadata": {
        "id": "YBztRYtApldL",
        "colab": {
          "base_uri": "https://localhost:8080/",
          "height": 35
        },
        "outputId": "01f3e306-8920-47b1-9221-351491f62cef"
      },
      "execution_count": 18,
      "outputs": [
        {
          "output_type": "execute_result",
          "data": {
            "text/plain": [
              "'hi hi hi '"
            ],
            "application/vnd.google.colaboratory.intrinsic+json": {
              "type": "string"
            }
          },
          "metadata": {},
          "execution_count": 18
        }
      ]
    },
    {
      "cell_type": "code",
      "source": [
        "\"hi\" * 3"
      ],
      "metadata": {
        "id": "GVqFU1gLpnn_",
        "colab": {
          "base_uri": "https://localhost:8080/",
          "height": 35
        },
        "outputId": "71b66098-529e-48ab-d1f5-8a683cad8d05"
      },
      "execution_count": 19,
      "outputs": [
        {
          "output_type": "execute_result",
          "data": {
            "text/plain": [
              "'hihihi'"
            ],
            "application/vnd.google.colaboratory.intrinsic+json": {
              "type": "string"
            }
          },
          "metadata": {},
          "execution_count": 19
        }
      ]
    },
    {
      "cell_type": "code",
      "source": [
        "\"hi \" + str(3)"
      ],
      "metadata": {
        "id": "pQMPZvTJpqQP",
        "colab": {
          "base_uri": "https://localhost:8080/",
          "height": 35
        },
        "collapsed": true,
        "outputId": "03d8ed2a-c6a8-46a0-bd8d-14aeba408663"
      },
      "execution_count": 23,
      "outputs": [
        {
          "output_type": "execute_result",
          "data": {
            "text/plain": [
              "'hi 3'"
            ],
            "application/vnd.google.colaboratory.intrinsic+json": {
              "type": "string"
            }
          },
          "metadata": {},
          "execution_count": 23
        }
      ]
    },
    {
      "cell_type": "code",
      "source": [
        "\"hi \" + 3"
      ],
      "metadata": {
        "id": "SBufJGbsptXV",
        "colab": {
          "base_uri": "https://localhost:8080/",
          "height": 141
        },
        "outputId": "8ae94529-c1d8-4f36-a2e1-b6efde86d342"
      },
      "execution_count": 25,
      "outputs": [
        {
          "output_type": "error",
          "ename": "TypeError",
          "evalue": "can only concatenate str (not \"int\") to str",
          "traceback": [
            "\u001b[0;31m---------------------------------------------------------------------------\u001b[0m",
            "\u001b[0;31mTypeError\u001b[0m                                 Traceback (most recent call last)",
            "\u001b[0;32m<ipython-input-25-30b230d368ac>\u001b[0m in \u001b[0;36m<cell line: 0>\u001b[0;34m()\u001b[0m\n\u001b[0;32m----> 1\u001b[0;31m \u001b[0;34m\"hi \"\u001b[0m \u001b[0;34m+\u001b[0m \u001b[0;36m3\u001b[0m\u001b[0;34m\u001b[0m\u001b[0;34m\u001b[0m\u001b[0m\n\u001b[0m",
            "\u001b[0;31mTypeError\u001b[0m: can only concatenate str (not \"int\") to str"
          ]
        }
      ]
    },
    {
      "cell_type": "code",
      "source": [
        "\"this\" + \"that\""
      ],
      "metadata": {
        "id": "NMeXre9NpvdU",
        "colab": {
          "base_uri": "https://localhost:8080/",
          "height": 35
        },
        "outputId": "76cc0f59-3233-4826-e7ff-4ba43f7395c3"
      },
      "execution_count": 26,
      "outputs": [
        {
          "output_type": "execute_result",
          "data": {
            "text/plain": [
              "'thisthat'"
            ],
            "application/vnd.google.colaboratory.intrinsic+json": {
              "type": "string"
            }
          },
          "metadata": {},
          "execution_count": 26
        }
      ]
    },
    {
      "cell_type": "code",
      "source": [
        "\"this \" + \"that\""
      ],
      "metadata": {
        "id": "dsPI9b8epxvP",
        "colab": {
          "base_uri": "https://localhost:8080/",
          "height": 35
        },
        "outputId": "dcad68c7-a103-4ee0-c4c2-b43347e24e81"
      },
      "execution_count": 27,
      "outputs": [
        {
          "output_type": "execute_result",
          "data": {
            "text/plain": [
              "'this that'"
            ],
            "application/vnd.google.colaboratory.intrinsic+json": {
              "type": "string"
            }
          },
          "metadata": {},
          "execution_count": 27
        }
      ]
    },
    {
      "cell_type": "code",
      "source": [
        "5 // 2 + 9.0 / 2.0 - 2 * 1.25"
      ],
      "metadata": {
        "id": "MRabkSMnp18t",
        "colab": {
          "base_uri": "https://localhost:8080/"
        },
        "outputId": "4b8f6a2a-9d7c-45fb-e52a-faee3212281c"
      },
      "execution_count": 28,
      "outputs": [
        {
          "output_type": "execute_result",
          "data": {
            "text/plain": [
              "4.0"
            ]
          },
          "metadata": {},
          "execution_count": 28
        }
      ]
    },
    {
      "cell_type": "code",
      "source": [
        "str(1 + 1) + \"(1 + 1)\" + str(1)"
      ],
      "metadata": {
        "id": "h8tzm8vVp3no",
        "colab": {
          "base_uri": "https://localhost:8080/",
          "height": 35
        },
        "outputId": "2c39ce38-420a-429d-c003-59cb4c172442"
      },
      "execution_count": 29,
      "outputs": [
        {
          "output_type": "execute_result",
          "data": {
            "text/plain": [
              "'2(1 + 1)1'"
            ],
            "application/vnd.google.colaboratory.intrinsic+json": {
              "type": "string"
            }
          },
          "metadata": {},
          "execution_count": 29
        }
      ]
    },
    {
      "cell_type": "code",
      "source": [
        "21 % 5 * 5 - 13.2"
      ],
      "metadata": {
        "id": "QGrPCYGhp5lR",
        "colab": {
          "base_uri": "https://localhost:8080/"
        },
        "outputId": "e9454245-b8fb-41a1-ddca-8c495f09a435"
      },
      "execution_count": 30,
      "outputs": [
        {
          "output_type": "execute_result",
          "data": {
            "text/plain": [
              "-8.2"
            ]
          },
          "metadata": {},
          "execution_count": 30
        }
      ]
    },
    {
      "cell_type": "markdown",
      "source": [
        "# Try it on your own\n",
        "\n",
        "Write your own expression here and predict the result"
      ],
      "metadata": {
        "id": "Dbmdz6kSp9y6"
      }
    },
    {
      "cell_type": "code",
      "source": [
        "int(6.8)+ float(44)**2"
      ],
      "metadata": {
        "id": "2BRBKAX_qJFC",
        "colab": {
          "base_uri": "https://localhost:8080/"
        },
        "outputId": "97d37f83-ff70-4d7c-a40d-71956741595a"
      },
      "execution_count": 38,
      "outputs": [
        {
          "output_type": "execute_result",
          "data": {
            "text/plain": [
              "1942.0"
            ]
          },
          "metadata": {},
          "execution_count": 38
        }
      ]
    }
  ]
}