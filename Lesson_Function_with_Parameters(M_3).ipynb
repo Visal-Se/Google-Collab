{
  "nbformat": 4,
  "nbformat_minor": 0,
  "metadata": {
    "colab": {
      "provenance": [],
      "authorship_tag": "ABX9TyO6K5bGNECsxzLNNjTQBLmh",
      "include_colab_link": true
    },
    "kernelspec": {
      "name": "python3",
      "display_name": "Python 3"
    },
    "language_info": {
      "name": "python"
    }
  },
  "cells": [
    {
      "cell_type": "markdown",
      "metadata": {
        "id": "view-in-github",
        "colab_type": "text"
      },
      "source": [
        "<a href=\"https://colab.research.google.com/github/Visal-Se/Google-Collab/blob/main/Lesson_Function_with_Parameters(M_3).ipynb\" target=\"_parent\"><img src=\"https://colab.research.google.com/assets/colab-badge.svg\" alt=\"Open In Colab\"/></a>"
      ]
    },
    {
      "cell_type": "markdown",
      "source": [
        "##**Functions**\n",
        "**A quick review of functions:**\n",
        "\n",
        "- We use functions to group related code into different tasks. We also use function to allow those tasks to be repeated quickly through a function call, rather than re-writing code.\n",
        "- Parameters (sometimes called \"params\") are used to give information to a function for processing, similar to input devices connected to a computer. Parameters are separated by commas inside the parenthesis and should have meaningful names (not a, b, c)."
      ],
      "metadata": {
        "id": "BdZzV99P6yqT"
      }
    },
    {
      "cell_type": "markdown",
      "source": [
        "***Functions***\n",
        "\n",
        "1. What is the purpose of a function?\n",
        "1. How do you define a function?\n",
        "1. How do you call a function?"
      ],
      "metadata": {
        "id": "W2kKwvSvygXw"
      }
    },
    {
      "cell_type": "code",
      "execution_count": null,
      "metadata": {
        "colab": {
          "base_uri": "https://localhost:8080/"
        },
        "id": "wDVJuK0jyd0m",
        "outputId": "b609108d-52cc-4dd2-85e7-9aa1341160ac"
      },
      "outputs": [
        {
          "output_type": "stream",
          "name": "stdout",
          "text": [
            "Happy birthday to you\n",
            "happy birthday to you\n",
            "happy birthday dear Visal\n",
            "happy birthdayy to you!\n"
          ]
        }
      ],
      "source": [
        "def happy_birthday():\n",
        "  print(\"Happy birthday to you\")\n",
        "  print(\"happy birthday to you\")\n",
        "  print(\"happy birthday dear Visal\")\n",
        "  print(\"happy birthdayy to you!\")\n",
        "#-----MAIN-------\n",
        "happy_birthday()"
      ]
    },
    {
      "cell_type": "markdown",
      "source": [
        "## **Function with Parameters**"
      ],
      "metadata": {
        "id": "aZZoGLWb5XkP"
      }
    },
    {
      "cell_type": "code",
      "source": [
        "def hbd(name):\n",
        "  print(\"Happy birthday\", name) #method 1\n",
        "  print(\"Happy birthday \"+ name) #method 2\n",
        "  print(f\"Happy birthday {name}\") #method 3 (recommended)\n",
        "  print()"
      ],
      "metadata": {
        "id": "pL6OkOoD5W5o"
      },
      "execution_count": null,
      "outputs": []
    },
    {
      "cell_type": "code",
      "source": [
        "hbd(\"Crystal\") #similar as: name= \"Crystal\"\n",
        "hbd(\"Peter\")"
      ],
      "metadata": {
        "colab": {
          "base_uri": "https://localhost:8080/"
        },
        "id": "WyeimM5c6B94",
        "outputId": "fc813c95-05d9-4b43-f688-d2c7e4a08f78"
      },
      "execution_count": null,
      "outputs": [
        {
          "output_type": "stream",
          "name": "stdout",
          "text": [
            "Happy birthday Crystal\n",
            "Happy birthday Crystal\n",
            "Happy birthday Crystal\n",
            "\n",
            "Happy birthday Peter\n",
            "Happy birthday Peter\n",
            "Happy birthday Peter\n",
            "\n"
          ]
        }
      ]
    }
  ]
}