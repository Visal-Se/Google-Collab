{
  "nbformat": 4,
  "nbformat_minor": 0,
  "metadata": {
    "colab": {
      "provenance": [],
      "authorship_tag": "ABX9TyN41Nv3sbujMzNLyfyia4nh",
      "include_colab_link": true
    },
    "kernelspec": {
      "name": "python3",
      "display_name": "Python 3"
    },
    "language_info": {
      "name": "python"
    }
  },
  "cells": [
    {
      "cell_type": "markdown",
      "metadata": {
        "id": "view-in-github",
        "colab_type": "text"
      },
      "source": [
        "<a href=\"https://colab.research.google.com/github/Visal-Se/Google-Collab/blob/main/Program_6_Voting_Booth(M_6).ipynb\" target=\"_parent\"><img src=\"https://colab.research.google.com/assets/colab-badge.svg\" alt=\"Open In Colab\"/></a>"
      ]
    },
    {
      "cell_type": "markdown",
      "source": [
        "#*Function Definition*"
      ],
      "metadata": {
        "id": "-BF7Baob4Xj8"
      }
    },
    {
      "cell_type": "code",
      "execution_count": null,
      "metadata": {
        "id": "4ubVMjHM1UAx"
      },
      "outputs": [],
      "source": [
        "def voting_program():\n",
        "  print(\"Welcome to my election voting program.\")\n",
        "  print()\n",
        "  print(\"Election candidates are: Donald Brady, Minnie Mouse, Goofy\")\n",
        "  print()\n",
        "  Donald_Brady = 0\n",
        "  Minnie_Mouse = 0\n",
        "  Goofy = 0\n",
        "\n",
        "  for i in range(10):\n",
        "    name = input(f\"Cast your vote > \")\n",
        "    if name == (\"Donald Brady\"):\n",
        "      Donald_Brady += 1\n",
        "    elif name == (\"Minnie Mouse\"):\n",
        "      Minnie_Mouse += 1\n",
        "    elif name == (\"Goofy\"):\n",
        "      Goofy += 1\n",
        "\n",
        "\n",
        "  print()\n",
        "  print(\"ELECTION RESULTS...\")\n",
        "  print()\n",
        "  print(\"Vote Summary from 10 ballots:\")\n",
        "  print(f\"Donald Brady - {Donald_Brady} vote(s)\")\n",
        "  print(f\"Minnie Mouse - {Minnie_Mouse} vote(s)\")\n",
        "  print(f\"Goofy - {Goofy} vote(s)\")\n",
        "  print()\n",
        "\n",
        "\n",
        "  if Donald_Brady > Minnie_Mouse and Donald_Brady > Goofy:\n",
        "    print(\"WINNER: Donald Brady!\")\n",
        "  elif Minnie_Mouse > Donald_Brady and Minnie_Mouse > Goofy:\n",
        "    print(\"WINNER: Minnie Mouse!\")\n",
        "  elif Goofy > Donald_Brady and Goofy > Minnie_Mouse:\n",
        "      print(\"WINNER: Goofy!\")\n",
        "\n",
        "\n"
      ]
    },
    {
      "cell_type": "markdown",
      "source": [
        "#*Function call*"
      ],
      "metadata": {
        "id": "HmsnwpLK4rDK"
      }
    },
    {
      "cell_type": "code",
      "source": [
        "voting_program()"
      ],
      "metadata": {
        "colab": {
          "base_uri": "https://localhost:8080/"
        },
        "collapsed": true,
        "id": "vieI16Ww40Eg",
        "outputId": "4e6fcac3-51b3-4b55-a035-4549f4be483c"
      },
      "execution_count": null,
      "outputs": [
        {
          "output_type": "stream",
          "name": "stdout",
          "text": [
            "Welcome to my election voting program.\n",
            "\n",
            "Election candidates are: Donald Brady, Minnie Mouse, Goofy\n",
            "\n",
            "Cast your vote > Donald Brady\n",
            "Cast your vote > Goofy\n",
            "Cast your vote > Minnie Mouse\n",
            "Cast your vote > Minnie Mouse\n",
            "Cast your vote > Goofy\n",
            "Cast your vote > Goofy\n",
            "Cast your vote > Donald Brady\n",
            "Cast your vote > Donald Brady\n",
            "Cast your vote > Minnie Mouse\n",
            "Cast your vote > Minnie Mouse\n",
            "\n",
            "ELECTION RESULTS...\n",
            "\n",
            "Vote Summary from 10 ballots:\n",
            "Donald Brady - 3 vote(s)\n",
            "Minnie Mouse - 4 vote(s)\n",
            "Goofy - 3 vote(s)\n",
            "\n",
            "WINNER: Minnie Mouse!\n"
          ]
        }
      ]
    }
  ]
}