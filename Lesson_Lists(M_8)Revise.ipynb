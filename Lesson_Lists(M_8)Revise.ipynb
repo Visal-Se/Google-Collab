{
  "nbformat": 4,
  "nbformat_minor": 0,
  "metadata": {
    "colab": {
      "provenance": [],
      "authorship_tag": "ABX9TyNVwwCeSaZHrgtLeaxz/lSF",
      "include_colab_link": true
    },
    "kernelspec": {
      "name": "python3",
      "display_name": "Python 3"
    },
    "language_info": {
      "name": "python"
    }
  },
  "cells": [
    {
      "cell_type": "markdown",
      "metadata": {
        "id": "view-in-github",
        "colab_type": "text"
      },
      "source": [
        "<a href=\"https://colab.research.google.com/github/Visal-Se/Google-Collab/blob/main/Lesson_Lists(M_8).ipynb\" target=\"_parent\"><img src=\"https://colab.research.google.com/assets/colab-badge.svg\" alt=\"Open In Colab\"/></a>"
      ]
    },
    {
      "cell_type": "markdown",
      "source": [
        "#Lists\n"
      ],
      "metadata": {
        "id": "71FBftLmn3_5"
      }
    },
    {
      "cell_type": "markdown",
      "source": [
        "Making a list"
      ],
      "metadata": {
        "id": "TaOg70shn9Ro"
      }
    },
    {
      "cell_type": "code",
      "source": [
        "names = [\"Joe\", \"Crystal\", \"Sally\"]"
      ],
      "metadata": {
        "id": "3gbnNMh6nenN"
      },
      "execution_count": null,
      "outputs": []
    },
    {
      "cell_type": "code",
      "execution_count": null,
      "metadata": {
        "colab": {
          "base_uri": "https://localhost:8080/"
        },
        "id": "eyxxPPTNmwXW",
        "outputId": "fa3c9d5c-7638-47e6-8ded-3967d0240eec"
      },
      "outputs": [
        {
          "output_type": "stream",
          "name": "stdout",
          "text": [
            "['Joe', 'Crystal', 'Sally']\n"
          ]
        }
      ],
      "source": [
        "print(names)"
      ]
    },
    {
      "cell_type": "markdown",
      "source": [
        "Adding to a list"
      ],
      "metadata": {
        "id": "YuhzDUyDoZpT"
      }
    },
    {
      "cell_type": "code",
      "source": [
        "names.append(input(\"Enter a name > \"))\n",
        "print(names)"
      ],
      "metadata": {
        "colab": {
          "base_uri": "https://localhost:8080/"
        },
        "id": "HYujN1FZoUSp",
        "outputId": "a118312a-9834-4ebb-d052-34f002660abf"
      },
      "execution_count": null,
      "outputs": [
        {
          "output_type": "stream",
          "name": "stdout",
          "text": [
            "Enter a name > Andrew\n",
            "['Joe', 'Crystal', 'Sally', 'Pop', 'Andrew']\n"
          ]
        }
      ]
    },
    {
      "cell_type": "markdown",
      "source": [
        "Accessing/Changing an element in a list"
      ],
      "metadata": {
        "id": "2TN5k_9royhR"
      }
    },
    {
      "cell_type": "code",
      "source": [
        "names[1]"
      ],
      "metadata": {
        "colab": {
          "base_uri": "https://localhost:8080/",
          "height": 35
        },
        "id": "Vh5uas9Fo7ec",
        "outputId": "f786849a-4520-4444-a0d8-afb52f054a5c"
      },
      "execution_count": null,
      "outputs": [
        {
          "output_type": "execute_result",
          "data": {
            "text/plain": [
              "'Crystal'"
            ],
            "application/vnd.google.colaboratory.intrinsic+json": {
              "type": "string"
            }
          },
          "metadata": {},
          "execution_count": 5
        }
      ]
    },
    {
      "cell_type": "code",
      "source": [
        "names[-1]"
      ],
      "metadata": {
        "colab": {
          "base_uri": "https://localhost:8080/",
          "height": 35
        },
        "id": "2xwnzFxgpBfv",
        "outputId": "9e9aeed3-4ff5-47ca-99d9-d9074068619b"
      },
      "execution_count": null,
      "outputs": [
        {
          "output_type": "execute_result",
          "data": {
            "text/plain": [
              "'Andrew'"
            ],
            "application/vnd.google.colaboratory.intrinsic+json": {
              "type": "string"
            }
          },
          "metadata": {},
          "execution_count": 6
        }
      ]
    },
    {
      "cell_type": "code",
      "source": [
        "names[-2] = \"Harry\"\n",
        "print(names)"
      ],
      "metadata": {
        "colab": {
          "base_uri": "https://localhost:8080/"
        },
        "id": "AWLV0IsBpFr-",
        "outputId": "c6436241-2cd4-4757-f8c8-30bd1c328069"
      },
      "execution_count": null,
      "outputs": [
        {
          "output_type": "stream",
          "name": "stdout",
          "text": [
            "['Joe', 'Crystal', 'Sally', 'Harry', 'Andrew']\n"
          ]
        }
      ]
    }
  ]
}
