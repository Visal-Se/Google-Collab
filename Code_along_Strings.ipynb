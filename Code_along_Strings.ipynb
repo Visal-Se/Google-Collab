{
  "nbformat": 4,
  "nbformat_minor": 0,
  "metadata": {
    "colab": {
      "provenance": [],
      "include_colab_link": true
    },
    "kernelspec": {
      "name": "python3",
      "display_name": "Python 3"
    },
    "language_info": {
      "name": "python"
    }
  },
  "cells": [
    {
      "cell_type": "markdown",
      "metadata": {
        "id": "view-in-github",
        "colab_type": "text"
      },
      "source": [
        "<a href=\"https://colab.research.google.com/github/Visal-Se/Google-Collab/blob/main/Code_along_Strings.ipynb\" target=\"_parent\"><img src=\"https://colab.research.google.com/assets/colab-badge.svg\" alt=\"Open In Colab\"/></a>"
      ]
    },
    {
      "cell_type": "markdown",
      "source": [
        "**SAVE A COPY** OF THIS NOTEBOOK TO YOUR OWN DRIVE **BEFORE YOU START**"
      ],
      "metadata": {
        "id": "yOy3HqsXjdKb"
      }
    },
    {
      "cell_type": "markdown",
      "source": [
        "# count_vowels(s)\n",
        "\n",
        "Write a function count_vowels(s) that takes a string s and returns the number of vowels (a, e, i, o, u) in the string."
      ],
      "metadata": {
        "id": "cwVPoS1ZaQFu"
      }
    },
    {
      "cell_type": "markdown",
      "source": [
        "## Tests"
      ],
      "metadata": {
        "id": "XEiPuHjpaT_q"
      }
    },
    {
      "cell_type": "code",
      "execution_count": 10,
      "metadata": {
        "id": "9jSJ4irXZ-nP"
      },
      "outputs": [],
      "source": [
        "def test_count_vowels():\n",
        "  assert count_vowels(\"aeiou\") == 5, \"Failed: all vowels counted\"\n",
        "  assert count_vowels(\"aaaeeiiiioooouu\") == 15, \"Failed: correct counts for each vowel\"\n",
        "  assert count_vowels(\"a b c d e f \") == 2, \"Failed: does not count letters or spaces\"\n",
        "  assert count_vowels(\"1234567\") == 0, \"Failed: numbers aren't vowels\"\n",
        "  assert count_vowels(\"%!&#^*#\") == 0, \"Failed: symbols aren't vowels\"\n",
        "  assert count_vowels(\" A E I O U\") == 5, \"Failed: counts uppercase vowels\"\n",
        "  print(\"All tests passed.\")"
      ]
    },
    {
      "cell_type": "code",
      "source": [
        "test_count_vowels()"
      ],
      "metadata": {
        "id": "D-SnSjj1eqNR",
        "colab": {
          "base_uri": "https://localhost:8080/"
        },
        "outputId": "cc671218-8713-4d47-ec4b-bd42aa7ef3e2"
      },
      "execution_count": 13,
      "outputs": [
        {
          "output_type": "stream",
          "name": "stdout",
          "text": [
            "All tests passed.\n"
          ]
        }
      ]
    },
    {
      "cell_type": "markdown",
      "source": [
        "## Code"
      ],
      "metadata": {
        "id": "IdrQyU7zaWXt"
      }
    },
    {
      "cell_type": "code",
      "source": [
        "def count_vowels(s):\n",
        "  count = 0\n",
        "\n",
        "  for i in range(len(s)):\n",
        "    letter = s[i].lower()\n",
        "    if letter == \"a\" or letter == \"e\" or letter == \"i\" or letter == \"o\" or letter == \"u\":\n",
        "      count += 1\n",
        "\n",
        "  return count"
      ],
      "metadata": {
        "id": "SBxC1_KnaVF6"
      },
      "execution_count": 9,
      "outputs": []
    },
    {
      "cell_type": "markdown",
      "source": [
        "# get_handle(s)\n",
        "\n",
        "Write a function get_handle(email) that extracts and returns the handle part of an email address (everything before the '@' symbol)."
      ],
      "metadata": {
        "id": "7gWfxNHUiQPS"
      }
    },
    {
      "cell_type": "markdown",
      "source": [
        "## Tests"
      ],
      "metadata": {
        "id": "57uLzrUfiQPT"
      }
    },
    {
      "cell_type": "code",
      "execution_count": 13,
      "metadata": {
        "id": "amzuXYS-iQPT"
      },
      "outputs": [],
      "source": [
        "def test_get_handle():\n",
        "  assert get_handle(\"chess@shoreline.edu\") == \"chess\", \"Failed: chess@shoreline.edu\"\n",
        "  assert get_handle(\"my_email@somewhere.com\") == \"my_email\", \"Failed: my_email@somewhere.com\"\n",
        "  assert get_handle(\"this isn't an email\") == \"\", \"Failed: no @ symbol\"\n",
        "  print(\"All tests passed.\")"
      ]
    },
    {
      "cell_type": "code",
      "source": [
        "test_get_handle()"
      ],
      "metadata": {
        "id": "XtZYHmR6iQPU",
        "colab": {
          "base_uri": "https://localhost:8080/"
        },
        "outputId": "7f49ec90-e275-48c8-95a4-4bf2a7df9c25"
      },
      "execution_count": 14,
      "outputs": [
        {
          "output_type": "stream",
          "name": "stdout",
          "text": [
            "All tests passed.\n"
          ]
        }
      ]
    },
    {
      "cell_type": "markdown",
      "source": [
        "## Code"
      ],
      "metadata": {
        "id": "9-54a-zpiQPU"
      }
    },
    {
      "cell_type": "code",
      "source": [
        "def get_handle(s):\n",
        "  if s.count(\"@\") == 1:\n",
        "    at = s.index(\"@\")\n",
        "    return s[0:at]\n",
        "  else:\n",
        "    return \"\""
      ],
      "metadata": {
        "id": "UUYglB7FiQPU"
      },
      "execution_count": 12,
      "outputs": []
    },
    {
      "cell_type": "markdown",
      "source": [
        "# is_all_digits(s)\n",
        "\n",
        "Write a function is_all_digits(s) that checks if a string s contains only digits. Return True if it does, and False otherwise."
      ],
      "metadata": {
        "id": "mWeIuHDEa1SI"
      }
    },
    {
      "cell_type": "markdown",
      "source": [
        "## Tests"
      ],
      "metadata": {
        "id": "7MYHU6eNa1SJ"
      }
    },
    {
      "cell_type": "code",
      "execution_count": 49,
      "metadata": {
        "id": "ry157EAZa1SJ"
      },
      "outputs": [],
      "source": [
        "def test_is_all_digits():\n",
        "  assert is_all_digits(\"abcdefghijklmnopqrstuvwxyz\") == False, \"Falsed: letter check\"\n",
        "  assert is_all_digits(\"12345\") == True, \"Failed: 1-5 check\"\n",
        "  assert is_all_digits(\"14 &%2 23\") == False, \"Failed: numbers and symbols check\"\n",
        "  print(\"All tests passed.\")"
      ]
    },
    {
      "cell_type": "code",
      "source": [
        "test_is_all_digits()"
      ],
      "metadata": {
        "colab": {
          "base_uri": "https://localhost:8080/"
        },
        "id": "44xG9aTk0Df-",
        "outputId": "2dfce075-a45f-48fa-c5bc-332062c29169"
      },
      "execution_count": 52,
      "outputs": [
        {
          "output_type": "stream",
          "name": "stdout",
          "text": [
            "All tests passed.\n"
          ]
        }
      ]
    },
    {
      "cell_type": "markdown",
      "source": [
        "## Code"
      ],
      "metadata": {
        "id": "PBNyIuFIa1SJ"
      }
    },
    {
      "cell_type": "code",
      "source": [
        "def is_all_digits(s):\n",
        "  for char in s: #char ---> s[i]\n",
        "    if not char.isdigit():\n",
        "      return False\n",
        "  return True"
      ],
      "metadata": {
        "id": "VwN3beAla1SJ"
      },
      "execution_count": 51,
      "outputs": []
    }
  ]
}