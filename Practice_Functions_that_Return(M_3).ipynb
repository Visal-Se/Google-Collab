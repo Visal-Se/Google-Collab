{
  "nbformat": 4,
  "nbformat_minor": 0,
  "metadata": {
    "colab": {
      "provenance": [],
      "include_colab_link": true
    },
    "kernelspec": {
      "name": "python3",
      "display_name": "Python 3"
    },
    "language_info": {
      "name": "python"
    }
  },
  "cells": [
    {
      "cell_type": "markdown",
      "metadata": {
        "id": "view-in-github",
        "colab_type": "text"
      },
      "source": [
        "<a href=\"https://colab.research.google.com/github/Visal-Se/Google-Collab/blob/main/Practice_Functions_that_Return(M_3).ipynb\" target=\"_parent\"><img src=\"https://colab.research.google.com/assets/colab-badge.svg\" alt=\"Open In Colab\"/></a>"
      ]
    },
    {
      "cell_type": "markdown",
      "source": [
        "**SAVE A COPY** OF THIS NOTEBOOK TO YOUR OWN DRIVE **BEFORE YOU START**"
      ],
      "metadata": {
        "id": "OmnX9Fn-mUEC"
      }
    },
    {
      "cell_type": "markdown",
      "source": [
        "# Predict the result\n",
        "\n",
        "You should first read the code and predict what it will do. After predicting, you should run the code."
      ],
      "metadata": {
        "id": "9fjQGM5UufI7"
      }
    },
    {
      "cell_type": "markdown",
      "source": [
        "Code 1"
      ],
      "metadata": {
        "id": "oaeaOPijvpSi"
      }
    },
    {
      "cell_type": "code",
      "execution_count": 1,
      "metadata": {
        "id": "1ttHBV2ruXIY",
        "colab": {
          "base_uri": "https://localhost:8080/"
        },
        "outputId": "6364ff01-8bf1-4825-a306-1533c8f6b63e"
      },
      "outputs": [
        {
          "output_type": "stream",
          "name": "stdout",
          "text": [
            "What year were you born? > 2007\n",
            "What year is it now? > 2025\n",
            "This year you will turn 18\n"
          ]
        }
      ],
      "source": [
        "\n",
        "\n",
        "def get_age():\n",
        "  birth = int(input(\"What year were you born? > \"))\n",
        "  now = int(input(\"What year is it now? > \"))\n",
        "  return now - birth\n",
        "\n",
        "#----main----\n",
        "\n",
        "\n",
        "age = get_age()\n",
        "print(\"This year you will turn\", age)"
      ]
    },
    {
      "cell_type": "markdown",
      "source": [
        "Code 2"
      ],
      "metadata": {
        "id": "B83HRL3Mvqkx"
      }
    },
    {
      "cell_type": "code",
      "source": [
        "def sign(num):\n",
        "  if num > 0:\n",
        "    return \"positive\"\n",
        "  elif num < 0:\n",
        "    return \"negative\"\n",
        "  else:\n",
        "    return \"zero\"\n",
        "\n",
        "#----main----\n",
        "number = int(input(\"Enter a number > \"))\n",
        "print(\"Your number is\", sign(number))"
      ],
      "metadata": {
        "id": "9hVVHbGVupjA"
      },
      "execution_count": null,
      "outputs": []
    },
    {
      "cell_type": "markdown",
      "source": [
        "Code 3"
      ],
      "metadata": {
        "id": "N18V7ScGvrhp"
      }
    },
    {
      "cell_type": "code",
      "source": [
        "def greeting(hour, time):\n",
        "  if time == \"AM\" and hour < 10:\n",
        "    return \"Good morning!\"\n",
        "  elif time == \"PM\" and hour > 5:\n",
        "    return \"Good evening!\"\n",
        "  else:\n",
        "    return \"Good afternoon!\"\n",
        "\n",
        "#----main----\n",
        "say = greeting(1, \"PM\")\n",
        "print(say)"
      ],
      "metadata": {
        "id": "N2bFZauTu-o1"
      },
      "execution_count": null,
      "outputs": []
    },
    {
      "cell_type": "markdown",
      "source": [
        "Code 4"
      ],
      "metadata": {
        "id": "-zXT19TTvsQ4"
      }
    },
    {
      "cell_type": "code",
      "source": [
        "def coins(total, denomination):\n",
        "  num = int(total / denomination)\n",
        "  print(num, \" \", end=\"\")\n",
        "  if denomination == 0.25:\n",
        "    print(\"quarters\")\n",
        "  elif denomination == 0.10:\n",
        "    print(\"dimes\")\n",
        "  elif denomination == 0.05:\n",
        "    print(\"nickels\")\n",
        "  else:\n",
        "    print(\"pennies\")\n",
        "  return total - (num * denomination)\n",
        "\n",
        "#----main----\n",
        "money = float(input(\"How much money do you have? > \"))\n",
        "\n",
        "print()\n",
        "print(\"Your money in coins would be:\")\n",
        "money = coins(money, 0.25)\n",
        "money = coins(money, 0.10)\n",
        "money = coins(money, 0.05)\n",
        "money = coins(money, 0.01)"
      ],
      "metadata": {
        "id": "HwC7slmwvX4h"
      },
      "execution_count": null,
      "outputs": []
    },
    {
      "cell_type": "markdown",
      "source": [
        "Code 5"
      ],
      "metadata": {
        "id": "ySy0TQaRvtCl"
      }
    },
    {
      "cell_type": "code",
      "source": [
        "def coins(total, denomination):\n",
        "  num = int(total / denomination)\n",
        "  return total - (num * denomination)\n",
        "\n",
        "  print(num, \" \", end=\"\")\n",
        "  if denomination == 0.25:\n",
        "    print(\"quarters\")\n",
        "  elif denomination == 0.10:\n",
        "    print(\"dimes\")\n",
        "  elif denomination == 0.05:\n",
        "    print(\"nickels\")\n",
        "  else:\n",
        "    print(\"pennies\")\n",
        "\n",
        "\n",
        "#----main----\n",
        "money = float(input(\"How much money do you have? > \"))\n",
        "\n",
        "print()\n",
        "print(\"Your money in coins would be:\")\n",
        "money = coins(money, 0.25)\n",
        "money = coins(money, 0.10)\n",
        "money = coins(money, 0.05)\n",
        "money = coins(money, 0.01)"
      ],
      "metadata": {
        "id": "4uOTySeSvkgu"
      },
      "execution_count": null,
      "outputs": []
    },
    {
      "cell_type": "markdown",
      "source": [
        "# Write your own\n",
        "\n",
        "Write code snippets to do the following."
      ],
      "metadata": {
        "id": "vd0lsPpPwAMl"
      }
    },
    {
      "cell_type": "markdown",
      "source": [
        "Specification 6\n",
        "\n",
        "Complete the following function so that it returns the secret identity of the following superheros: batman (bruce wayne), spiderman (peter parker), hulk (bruce banner), superman (clark kent)"
      ],
      "metadata": {
        "id": "9ST_XykuwHft"
      }
    },
    {
      "cell_type": "code",
      "source": [
        "def secret_identity(hero):\n",
        "  pass\n",
        "\n",
        "#----main----\n",
        "public = input(\"Enter a superhero > \")\n",
        "hidden = secret_identity(public)\n",
        "print(f\"The secret identity of {public} is {hidden}\")"
      ],
      "metadata": {
        "id": "zjYH8SYbwGId"
      },
      "execution_count": null,
      "outputs": []
    },
    {
      "cell_type": "markdown",
      "source": [
        "Specification 7\n",
        "\n",
        "Complete the following function so that it returns `True` if the height of a given vehicle is less than 126 inches. The function should return `False` otherwise."
      ],
      "metadata": {
        "id": "GAghCEBswQ_3"
      }
    },
    {
      "cell_type": "code",
      "source": [
        "def fits_under_bridge(feet, inches):\n",
        "  pass\n",
        "\n",
        "#----main----\n",
        "print(\"How tall is your vehicle?\")\n",
        "feet = int(input(\"feet > \"))\n",
        "inches = int(input(\"inches > \"))\n",
        "\n",
        "if fits_under_bridge(feet, inches):\n",
        "  print(\"Wheew, you'll make it.\")\n",
        "else:\n",
        "  print(\"Better turn around. Your vehicle is too tall.\")"
      ],
      "metadata": {
        "id": "S-mjdTkqwWgL"
      },
      "execution_count": null,
      "outputs": []
    }
  ]
}