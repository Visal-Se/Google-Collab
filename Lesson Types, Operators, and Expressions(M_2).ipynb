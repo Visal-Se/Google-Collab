{
  "nbformat": 4,
  "nbformat_minor": 0,
  "metadata": {
    "colab": {
      "provenance": [],
      "authorship_tag": "ABX9TyO1N0L/aZgBbrCmgv6JmkQF",
      "include_colab_link": true
    },
    "kernelspec": {
      "name": "python3",
      "display_name": "Python 3"
    },
    "language_info": {
      "name": "python"
    }
  },
  "cells": [
    {
      "cell_type": "markdown",
      "metadata": {
        "id": "view-in-github",
        "colab_type": "text"
      },
      "source": [
        "<a href=\"https://colab.research.google.com/github/Visal-Se/Google-Collab/blob/main/Lesson%20Types%2C%20Operators%2C%20and%20Expressions(M_2).ipynb\" target=\"_parent\"><img src=\"https://colab.research.google.com/assets/colab-badge.svg\" alt=\"Open In Colab\"/></a>"
      ]
    },
    {
      "cell_type": "markdown",
      "source": [
        "#warm-up 1/15"
      ],
      "metadata": {
        "id": "FFe4vxfWwxIO"
      }
    },
    {
      "cell_type": "code",
      "execution_count": 39,
      "metadata": {
        "colab": {
          "base_uri": "https://localhost:8080/"
        },
        "id": "2FeEhkHKShml",
        "outputId": "9a8cca4e-0e04-4c47-cff7-c326ef28cea4"
      },
      "outputs": [
        {
          "output_type": "stream",
          "name": "stdout",
          "text": [
            "\\\\ \" \" //\n",
            "  \\ \" /\n",
            "   \\ /\n",
            "   ---\n"
          ]
        }
      ],
      "source": [
        "# this is a funnel!\n",
        "print(\"\\\\\\\\ \\\" \\\" //\")\n",
        "print(\"  \\\\ \\\" /\")\n",
        "print(\"   \\\\ /\")\n",
        "print(\"   ---\")"
      ]
    },
    {
      "cell_type": "code",
      "source": [
        "#Escape Sequences( \\t )\n",
        "print(\"Hi brother\\twhat are you doing?\")"
      ],
      "metadata": {
        "colab": {
          "base_uri": "https://localhost:8080/"
        },
        "id": "UaQqXQZVsila",
        "outputId": "c80ca772-bc04-4c77-8991-e1054374baaa"
      },
      "execution_count": 37,
      "outputs": [
        {
          "output_type": "stream",
          "name": "stdout",
          "text": [
            "Hi brother\twhat are you doing?\n"
          ]
        }
      ]
    },
    {
      "cell_type": "markdown",
      "source": [
        "#Lecture 1/15"
      ],
      "metadata": {
        "id": "kDgiut0Uw_SD"
      }
    },
    {
      "cell_type": "markdown",
      "source": [
        "Types\n"
      ],
      "metadata": {
        "id": "HhKXxxFCb-eX"
      }
    },
    {
      "cell_type": "code",
      "source": [
        "#a str(string): a series of characters inside of quotes.\n",
        "type(\"Hello world!\")"
      ],
      "metadata": {
        "colab": {
          "base_uri": "https://localhost:8080/"
        },
        "id": "U5z4S9j9YFBX",
        "outputId": "99c8e743-1cc7-46e5-a1e0-bfffcacff6ac"
      },
      "execution_count": 41,
      "outputs": [
        {
          "output_type": "execute_result",
          "data": {
            "text/plain": [
              "str"
            ]
          },
          "metadata": {},
          "execution_count": 41
        }
      ]
    },
    {
      "cell_type": "code",
      "source": [
        "#int(integer): a whole number (no decimals)\n",
        "type(-90)"
      ],
      "metadata": {
        "colab": {
          "base_uri": "https://localhost:8080/"
        },
        "id": "U_ZV7c3hyyeb",
        "outputId": "6389b1d1-e45a-48a6-f59b-8b6d2177ceb8"
      },
      "execution_count": 44,
      "outputs": [
        {
          "output_type": "execute_result",
          "data": {
            "text/plain": [
              "int"
            ]
          },
          "metadata": {},
          "execution_count": 44
        }
      ]
    },
    {
      "cell_type": "code",
      "source": [
        "#float: a decimals number.\n",
        "type(92.201)\n",
        "type(0.0)"
      ],
      "metadata": {
        "colab": {
          "base_uri": "https://localhost:8080/"
        },
        "id": "t2QQSRWdzWmS",
        "outputId": "02400968-97e7-442f-c841-54352957eb1b"
      },
      "execution_count": 49,
      "outputs": [
        {
          "output_type": "execute_result",
          "data": {
            "text/plain": [
              "float"
            ]
          },
          "metadata": {},
          "execution_count": 49
        }
      ]
    },
    {
      "cell_type": "markdown",
      "source": [
        "Operators"
      ],
      "metadata": {
        "id": "yTdXThcDX65w"
      }
    },
    {
      "cell_type": "code",
      "source": [
        " 3 + 4"
      ],
      "metadata": {
        "colab": {
          "base_uri": "https://localhost:8080/"
        },
        "id": "soTYbK5YZLxu",
        "outputId": "659edf41-1ec5-4b41-8f01-05164a881761"
      },
      "execution_count": null,
      "outputs": [
        {
          "output_type": "execute_result",
          "data": {
            "text/plain": [
              "7"
            ]
          },
          "metadata": {},
          "execution_count": 15
        }
      ]
    },
    {
      "cell_type": "code",
      "source": [
        " 4 + 6.00"
      ],
      "metadata": {
        "colab": {
          "base_uri": "https://localhost:8080/"
        },
        "id": "KHa3LzgYZqlX",
        "outputId": "a5cd4cae-9b18-49d3-9005-dee6ac09fa79"
      },
      "execution_count": 50,
      "outputs": [
        {
          "output_type": "execute_result",
          "data": {
            "text/plain": [
              "10.0"
            ]
          },
          "metadata": {},
          "execution_count": 50
        }
      ]
    },
    {
      "cell_type": "code",
      "source": [
        " -12 - 4.0"
      ],
      "metadata": {
        "colab": {
          "base_uri": "https://localhost:8080/"
        },
        "id": "TExrIqmU0ndb",
        "outputId": "06ca956e-baa3-46a0-b9bc-34a3e8667e9d"
      },
      "execution_count": 56,
      "outputs": [
        {
          "output_type": "execute_result",
          "data": {
            "text/plain": [
              "-16.0"
            ]
          },
          "metadata": {},
          "execution_count": 56
        }
      ]
    },
    {
      "cell_type": "code",
      "source": [
        " 7.9 * 2"
      ],
      "metadata": {
        "colab": {
          "base_uri": "https://localhost:8080/"
        },
        "id": "3J3i3p4rZuiW",
        "outputId": "7e31a594-8112-4b72-ecc4-18573710eed6"
      },
      "execution_count": 57,
      "outputs": [
        {
          "output_type": "execute_result",
          "data": {
            "text/plain": [
              "15.8"
            ]
          },
          "metadata": {},
          "execution_count": 57
        }
      ]
    },
    {
      "cell_type": "code",
      "source": [
        "#normal Division\n",
        "99 / 100"
      ],
      "metadata": {
        "colab": {
          "base_uri": "https://localhost:8080/"
        },
        "id": "1LDyHJZYZ0q4",
        "outputId": "76d072cb-379e-466b-ef05-e391129b6c01"
      },
      "execution_count": 73,
      "outputs": [
        {
          "output_type": "execute_result",
          "data": {
            "text/plain": [
              "0.99"
            ]
          },
          "metadata": {},
          "execution_count": 73
        }
      ]
    },
    {
      "cell_type": "code",
      "source": [
        "#floor division: which truncates the number (drops the decimal)\n",
        "99 // 100"
      ],
      "metadata": {
        "colab": {
          "base_uri": "https://localhost:8080/"
        },
        "id": "0QxYZU19aF2a",
        "outputId": "d4ceea94-b68b-48cf-8803-23e95c42a8a4"
      },
      "execution_count": 78,
      "outputs": [
        {
          "output_type": "execute_result",
          "data": {
            "text/plain": [
              "0"
            ]
          },
          "metadata": {},
          "execution_count": 78
        }
      ]
    },
    {
      "cell_type": "code",
      "source": [
        "# modulus (mod):the remainder(R) of a division.\n",
        "10 % 3"
      ],
      "metadata": {
        "colab": {
          "base_uri": "https://localhost:8080/"
        },
        "id": "XqNNLbaGa6_I",
        "outputId": "2215ffdf-5e03-4828-d23f-6fe9e455eb25"
      },
      "execution_count": 80,
      "outputs": [
        {
          "output_type": "execute_result",
          "data": {
            "text/plain": [
              "1"
            ]
          },
          "metadata": {},
          "execution_count": 80
        }
      ]
    },
    {
      "cell_type": "markdown",
      "source": [
        "More example of modulus:"
      ],
      "metadata": {
        "id": "v_IlM6RL5toz"
      }
    },
    {
      "cell_type": "code",
      "source": [
        "#The most frequent number used in modulus is 10 and 2:\n",
        "#quick way of finding mod 10 is-looking the last digits\n",
        "1234 % 10"
      ],
      "metadata": {
        "colab": {
          "base_uri": "https://localhost:8080/"
        },
        "id": "Zsillx8SbGlI",
        "outputId": "94b62880-02b3-4d6e-8b58-24d23edfe39c"
      },
      "execution_count": 82,
      "outputs": [
        {
          "output_type": "execute_result",
          "data": {
            "text/plain": [
              "4"
            ]
          },
          "metadata": {},
          "execution_count": 82
        }
      ]
    },
    {
      "cell_type": "code",
      "source": [
        "#quick way of finding mod 2 is- by looking the last digits and seeing if it even=0, odd=1\n",
        "1039384 % 2"
      ],
      "metadata": {
        "colab": {
          "base_uri": "https://localhost:8080/"
        },
        "id": "JuIpupC66mcL",
        "outputId": "694f8e37-5d5a-462d-bbef-ef8d367a1178"
      },
      "execution_count": 90,
      "outputs": [
        {
          "output_type": "execute_result",
          "data": {
            "text/plain": [
              "0"
            ]
          },
          "metadata": {},
          "execution_count": 90
        }
      ]
    },
    {
      "cell_type": "code",
      "source": [
        "# exponent\n",
        "3 ** 2"
      ],
      "metadata": {
        "colab": {
          "base_uri": "https://localhost:8080/"
        },
        "id": "kXOgBErhbeSP",
        "outputId": "daae076b-9c0a-4399-f92f-a1bdca1d47d3"
      },
      "execution_count": 91,
      "outputs": [
        {
          "output_type": "execute_result",
          "data": {
            "text/plain": [
              "9"
            ]
          },
          "metadata": {},
          "execution_count": 91
        }
      ]
    },
    {
      "cell_type": "code",
      "source": [
        "pow(3,2)"
      ],
      "metadata": {
        "colab": {
          "base_uri": "https://localhost:8080/"
        },
        "id": "BcIKZBHW8JVC",
        "outputId": "cc173313-9006-4f78-c7fe-4bd075f04013"
      },
      "execution_count": 94,
      "outputs": [
        {
          "output_type": "execute_result",
          "data": {
            "text/plain": [
              "9"
            ]
          },
          "metadata": {},
          "execution_count": 94
        }
      ]
    },
    {
      "cell_type": "markdown",
      "source": [
        "Expressions"
      ],
      "metadata": {
        "id": "Gue3-HazauTA"
      }
    },
    {
      "cell_type": "code",
      "source": [
        "#order of operation: P E MD AS\n",
        "(4 +7) * -9 - 10 / 9"
      ],
      "metadata": {
        "colab": {
          "base_uri": "https://localhost:8080/"
        },
        "id": "sYru3m1ca53M",
        "outputId": "7014d42d-4ea9-44ca-bd41-d60ce96ee4ab"
      },
      "execution_count": 1,
      "outputs": [
        {
          "output_type": "execute_result",
          "data": {
            "text/plain": [
              "-100.11111111111111"
            ]
          },
          "metadata": {},
          "execution_count": 1
        }
      ]
    }
  ]
}