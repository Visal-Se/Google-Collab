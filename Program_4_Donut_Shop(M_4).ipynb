{
  "nbformat": 4,
  "nbformat_minor": 0,
  "metadata": {
    "colab": {
      "provenance": [],
      "include_colab_link": true
    },
    "kernelspec": {
      "name": "python3",
      "display_name": "Python 3"
    },
    "language_info": {
      "name": "python"
    }
  },
  "cells": [
    {
      "cell_type": "markdown",
      "metadata": {
        "id": "view-in-github",
        "colab_type": "text"
      },
      "source": [
        "<a href=\"https://colab.research.google.com/github/Visal-Se/Google-Collab/blob/main/Program_4_Donut_Shop(M_4).ipynb\" target=\"_parent\"><img src=\"https://colab.research.google.com/assets/colab-badge.svg\" alt=\"Open In Colab\"/></a>"
      ]
    },
    {
      "cell_type": "markdown",
      "source": [
        "**SAVE A COPY** OF THIS NOTEBOOK TO YOUR OWN DRIVE **BEFORE YOU START**"
      ],
      "metadata": {
        "id": "XDRp2xEcm5Hd"
      }
    },
    {
      "cell_type": "markdown",
      "source": [
        "# Dount Shop\n",
        "\n",
        "You will build a virtual donut shop, piece by piece. To do this, complete and run each code cell below. At the end, you will put everything together at the bottom."
      ],
      "metadata": {
        "id": "Tp7N-dmD33G1"
      }
    },
    {
      "cell_type": "code",
      "execution_count": 2,
      "metadata": {
        "id": "vMN5du2T3dWo"
      },
      "outputs": [],
      "source": [
        "import math\n",
        "import random"
      ]
    },
    {
      "cell_type": "markdown",
      "source": [
        "# get_donuts()"
      ],
      "metadata": {
        "id": "ct6NUwhQsWtl"
      }
    },
    {
      "cell_type": "markdown",
      "source": [
        "The `get_donuts()` function should:\n",
        "* take no **parameters**\n",
        "* generate a random number of donuts to purchase between 6 to 30 inclusive\n",
        "* as a **side effect**, the function should print the number purchased\n",
        "* **return** the number purchased"
      ],
      "metadata": {
        "id": "z7PDLceS4CNr"
      }
    },
    {
      "cell_type": "code",
      "source": [
        "def get_donuts():\n",
        "  random_number = random.randrange(6, 31)\n",
        "  print(f\"You are going to buy {random_number} donuts!\")\n",
        "  return random_number"
      ],
      "metadata": {
        "id": "JEQz5XBa4aDC"
      },
      "execution_count": 1,
      "outputs": []
    },
    {
      "cell_type": "markdown",
      "source": [
        "Now, test that your `get_donuts()` function works by running the code below several times. Make sure that your are getting the expected output (both side effect in function and returned data)."
      ],
      "metadata": {
        "id": "jiN_wykTr5rD"
      }
    },
    {
      "cell_type": "code",
      "source": [
        "test_donuts = get_donuts()\n",
        "print(f\"Returned to main: {test_donuts}\")"
      ],
      "metadata": {
        "id": "30dRN8Q_sE76",
        "colab": {
          "base_uri": "https://localhost:8080/"
        },
        "outputId": "7326a424-119d-4f65-dff1-543ce8cb8c4e"
      },
      "execution_count": 3,
      "outputs": [
        {
          "output_type": "stream",
          "name": "stdout",
          "text": [
            "You are going to buy 21 donuts!\n",
            "Returned to main: 21\n"
          ]
        }
      ]
    },
    {
      "cell_type": "markdown",
      "source": [
        "# get_cost()"
      ],
      "metadata": {
        "id": "ssZHGq3-sZiO"
      }
    },
    {
      "cell_type": "markdown",
      "source": [
        "The `get_cost()` function should:\n",
        "* take no **parameters**\n",
        "* generate a random donut cost from three options: \\$1.25, \\$1.75, \\$2.50. To do this:\n",
        "  1. change `rand_num`'s assigned value to a random number 1-3 (use `random` module)\n",
        "  1. use a series of if-statements to set the `cost` based on `rand_num` (i.e., if `rand_num` is `1`, set `cost` to `$1.25`, etc)\n",
        "* as a **side effect**, the function should print how much each donut will cost (each donut is the same cost)\n",
        "* return the **cost**"
      ],
      "metadata": {
        "id": "2NuBUYFEsc5W"
      }
    },
    {
      "cell_type": "code",
      "source": [
        "def get_cost():\n",
        "  rand_num = random.randrange(1, 4)\n",
        "  cost = 0\n",
        "  if rand_num == 1:\n",
        "    cost = 1.25\n",
        "  elif rand_num == 2:\n",
        "    cost = 1.75\n",
        "  elif rand_num == 3:\n",
        "    cost = 2.50\n",
        "  print(f\"Each donut will cost ${cost}. \")\n",
        "  return cost"
      ],
      "metadata": {
        "id": "W2CcVeuMs4jB"
      },
      "execution_count": 114,
      "outputs": []
    },
    {
      "cell_type": "markdown",
      "source": [
        "Now, test that your `get_cost()` function works by running the code below several times. Make sure you are getting the expected output."
      ],
      "metadata": {
        "id": "03d-CrVLuYbl"
      }
    },
    {
      "cell_type": "code",
      "source": [
        "test_cost = get_cost()\n",
        "print(f\"Returned to main: {test_cost}\")"
      ],
      "metadata": {
        "id": "KlfESppDugCy",
        "colab": {
          "base_uri": "https://localhost:8080/"
        },
        "outputId": "27c751e5-057d-4be5-b045-0d7b3b4fdb85"
      },
      "execution_count": 115,
      "outputs": [
        {
          "output_type": "stream",
          "name": "stdout",
          "text": [
            "Each donut will cost $2.5. \n",
            "Returned to main: 2.5\n"
          ]
        }
      ]
    },
    {
      "cell_type": "markdown",
      "source": [
        "# get_bulk_discount()"
      ],
      "metadata": {
        "id": "Rcr2hXGiu2Sz"
      }
    },
    {
      "cell_type": "markdown",
      "source": [
        "The `get_bulk_discount` function should:\n",
        "* take the number of donuts purchased and the cost of each donut as **parameters**\n",
        "* determine how many full dozen donuts were purchased (a dozen = 12, two dozen = 24, etc)\n",
        "* for every dozen donuts, the customer gets 1 free donut\n",
        "* as a **side effect**, print the number of free donuts earned\n",
        "* **return** the discount amount\n",
        "  * Note that this is the cost discount, not the number of free donuts"
      ],
      "metadata": {
        "id": "5CXGwlnHu5f8"
      }
    },
    {
      "cell_type": "code",
      "source": [
        "def get_bulk_discount(num_donuts, donut_cost):\n",
        "  free_donuts = 0\n",
        "  if num_donuts >= 12:\n",
        "    free_donuts = 1\n",
        "  elif num_donuts >= 24:\n",
        "    free_donuts = 2\n",
        "  else:\n",
        "    free_donuts = 0\n",
        "  print(f\"You've earned {free_donuts} FREE DONUTS.\")\n",
        "\n",
        "  return free_donuts * donut_cost\n"
      ],
      "metadata": {
        "id": "X04cg5qC2FKr",
        "collapsed": true
      },
      "execution_count": 120,
      "outputs": []
    },
    {
      "cell_type": "markdown",
      "source": [
        "Now, test that your `get_bulk_discount()` function works using the following test calls."
      ],
      "metadata": {
        "id": "xALwMIQ42Ead"
      }
    },
    {
      "cell_type": "code",
      "source": [
        "get_bulk_discount(7, 1.25) # should be 0 donuts, $0.00 discount"
      ],
      "metadata": {
        "id": "H4vCVsin2cWz",
        "colab": {
          "base_uri": "https://localhost:8080/"
        },
        "outputId": "03aaed46-8813-44a1-b851-0f1ad34ccdd3"
      },
      "execution_count": 121,
      "outputs": [
        {
          "output_type": "stream",
          "name": "stdout",
          "text": [
            "You've earned 0 FREE DONUTS.\n"
          ]
        },
        {
          "output_type": "execute_result",
          "data": {
            "text/plain": [
              "0.0"
            ]
          },
          "metadata": {},
          "execution_count": 121
        }
      ]
    },
    {
      "cell_type": "code",
      "source": [
        "get_bulk_discount(12, 1.25) # should be 1 donuts, $1.25 discount"
      ],
      "metadata": {
        "id": "obJdIKkS3bbZ",
        "colab": {
          "base_uri": "https://localhost:8080/"
        },
        "outputId": "cdeb5f47-041c-458b-ff87-a62dbc021368"
      },
      "execution_count": 106,
      "outputs": [
        {
          "output_type": "stream",
          "name": "stdout",
          "text": [
            "You've earned 1 FREE DONUTS.\n"
          ]
        },
        {
          "output_type": "execute_result",
          "data": {
            "text/plain": [
              "1.25"
            ]
          },
          "metadata": {},
          "execution_count": 106
        }
      ]
    },
    {
      "cell_type": "code",
      "source": [
        "get_bulk_discount(18, 1.75) # should be 1 donuts, $1.75 discount"
      ],
      "metadata": {
        "id": "hXjopkPK3q7p",
        "colab": {
          "base_uri": "https://localhost:8080/"
        },
        "outputId": "d04ffa23-94cc-48da-cc12-606c67fa1138"
      },
      "execution_count": 107,
      "outputs": [
        {
          "output_type": "stream",
          "name": "stdout",
          "text": [
            "You've earned 1 FREE DONUTS.\n"
          ]
        },
        {
          "output_type": "execute_result",
          "data": {
            "text/plain": [
              "1.75"
            ]
          },
          "metadata": {},
          "execution_count": 107
        }
      ]
    },
    {
      "cell_type": "code",
      "source": [
        "get_bulk_discount(25, 1.25) # should be 2 donuts, $2.50 discount"
      ],
      "metadata": {
        "id": "AqXo5NbF3vcW",
        "colab": {
          "base_uri": "https://localhost:8080/"
        },
        "outputId": "3b56f73e-06d9-4c23-b1b1-c38717850264"
      },
      "execution_count": 123,
      "outputs": [
        {
          "output_type": "stream",
          "name": "stdout",
          "text": [
            "You've earned 1 FREE DONUTS.\n"
          ]
        },
        {
          "output_type": "execute_result",
          "data": {
            "text/plain": [
              "1.25"
            ]
          },
          "metadata": {},
          "execution_count": 123
        }
      ]
    },
    {
      "cell_type": "code",
      "source": [
        "get_bulk_discount(37, 2.50) # should be 3 donuts, $7.50 discount"
      ],
      "metadata": {
        "id": "BEwo29Yg3zoo",
        "colab": {
          "base_uri": "https://localhost:8080/"
        },
        "outputId": "502e6df8-d4ff-4808-efae-fe9f13365aa5"
      },
      "execution_count": 122,
      "outputs": [
        {
          "output_type": "stream",
          "name": "stdout",
          "text": [
            "You've earned 1 FREE DONUTS.\n"
          ]
        },
        {
          "output_type": "execute_result",
          "data": {
            "text/plain": [
              "2.5"
            ]
          },
          "metadata": {},
          "execution_count": 122
        }
      ]
    },
    {
      "cell_type": "markdown",
      "source": [
        "# print_receipt()"
      ],
      "metadata": {
        "id": "pFojMmmm4EyC"
      }
    },
    {
      "cell_type": "markdown",
      "source": [
        "The `print_receipt()` function should:\n",
        "* take the subtotal and the discount as **parameters**\n",
        "* calculate the final total\n",
        "* as a **side effect**, print the customer's receipt to the screen, including subtotal, discount, and total\n",
        "* **return** nothing"
      ],
      "metadata": {
        "id": "kFZ86_0p4HOu"
      }
    },
    {
      "cell_type": "code",
      "source": [
        "def print_receipt(the_subtotal, the_discount):\n",
        "  print(\"********** CUSTOMER RECEIPT **********\")\n",
        "  print(\"--------------------------------------\")\n",
        "  print(f\"\\tSubtotal: \\t  ${the_subtotal}\")\n",
        "  print(f\"\\tDiscount:\\t -${the_discount}\")\n",
        "  print(\"--------------------------------------\")\n",
        "  print(f\"TOTAL AFTER DISCOUNT\\t  ${the_subtotal - the_discount}\")\n",
        "  print(\"--------------------------------------\")"
      ],
      "metadata": {
        "id": "z7xwGPgF5pEg"
      },
      "execution_count": 82,
      "outputs": []
    },
    {
      "cell_type": "markdown",
      "source": [
        "Now, test your `print_receipt` function."
      ],
      "metadata": {
        "id": "sMOXMAGG5yVi"
      }
    },
    {
      "cell_type": "code",
      "source": [
        "print_receipt(3, 0)"
      ],
      "metadata": {
        "id": "HUvjzOqJ51xv",
        "colab": {
          "base_uri": "https://localhost:8080/"
        },
        "outputId": "20c50682-623d-4b08-8573-63d7f0ec21c3"
      },
      "execution_count": 83,
      "outputs": [
        {
          "output_type": "stream",
          "name": "stdout",
          "text": [
            "********** CUSTOMER RECEIPT **********\n",
            "--------------------------------------\n",
            "\tSubtotal: \t  $3\n",
            "\tDiscount:\t -$0\n",
            "--------------------------------------\n",
            "TOTAL AFTER DISCOUNT\t  $3\n",
            "--------------------------------------\n"
          ]
        }
      ]
    },
    {
      "cell_type": "code",
      "source": [
        "print_receipt(31.50, 1.75)"
      ],
      "metadata": {
        "id": "Boect6T16UOZ",
        "colab": {
          "base_uri": "https://localhost:8080/"
        },
        "outputId": "07c84697-2c45-47c4-9710-3533a08ab359"
      },
      "execution_count": 84,
      "outputs": [
        {
          "output_type": "stream",
          "name": "stdout",
          "text": [
            "********** CUSTOMER RECEIPT **********\n",
            "--------------------------------------\n",
            "\tSubtotal: \t  $31.5\n",
            "\tDiscount:\t -$1.75\n",
            "--------------------------------------\n",
            "TOTAL AFTER DISCOUNT\t  $29.75\n",
            "--------------------------------------\n"
          ]
        }
      ]
    },
    {
      "cell_type": "markdown",
      "source": [
        "# Build your main"
      ],
      "metadata": {
        "id": "Y2avqlrU6y_7"
      }
    },
    {
      "cell_type": "markdown",
      "source": [
        "Last, we will build the \"main\" of the program by calling each of the functions. You will need to make a few minor changes to the code below.\n",
        "1. You need to add the proper arguments to the `get_bulk_discount()` function call. Make sure you put the arguments in the same order as the function definition requires.\n",
        "1. You need to calculate the subtotal. Delete the `0` and replace it with the appropriate calculation. There will not be a function call on this line."
      ],
      "metadata": {
        "id": "8S_cldkx63qE"
      }
    },
    {
      "cell_type": "code",
      "source": [
        "#-------main-------\n",
        "donuts = get_donuts()\n",
        "cost = get_cost()\n",
        "\n",
        "discount = get_bulk_discount(donuts, cost)\n",
        "subtotal = donuts * cost\n",
        "\n",
        "print_receipt(subtotal, discount)"
      ],
      "metadata": {
        "id": "nFG-4UKQ7FmW",
        "colab": {
          "base_uri": "https://localhost:8080/"
        },
        "outputId": "ba7e7984-40c6-48cb-db35-6cdd673220ec"
      },
      "execution_count": 99,
      "outputs": [
        {
          "output_type": "stream",
          "name": "stdout",
          "text": [
            "You are going to buy 23 donuts!\n",
            "Each donut will cost $1.75. \n",
            "1 donuts\n",
            "********** CUSTOMER RECEIPT **********\n",
            "--------------------------------------\n",
            "\tSubtotal: \t  $40.25\n",
            "\tDiscount:\t -$1.75\n",
            "--------------------------------------\n",
            "TOTAL AFTER DISCOUNT\t  $38.5\n",
            "--------------------------------------\n"
          ]
        }
      ]
    },
    {
      "cell_type": "markdown",
      "source": [
        "Now, test that the code works as expected. If you've been away from the Colab notebook for too long, you may need to re-run your completed function definitions before completing the main."
      ],
      "metadata": {
        "id": "p5OyzQNV8ckH"
      }
    },
    {
      "cell_type": "markdown",
      "source": [
        "# YOUR COMPLETED PROGRAM\n",
        "\n",
        "Last, place your completed program below. This will require you to copy/paste below the import statements, your completed function definitions, and the main."
      ],
      "metadata": {
        "id": "Gs2tLITz8zel"
      }
    },
    {
      "cell_type": "code",
      "source": [
        "import math\n",
        "import random\n",
        "\n",
        "def get_donuts():\n",
        "  random_number = random.randrange(6, 31)\n",
        "  print(f\"You are going to buy {random_number} donuts!\")\n",
        "  return random_number\n",
        "\n",
        "def get_cost():\n",
        "  rand_num = random.randrange(1, 4)\n",
        "  cost = 0\n",
        "  if rand_num == 1:\n",
        "    cost = 1.25\n",
        "  elif rand_num == 2:\n",
        "    cost = 1.75\n",
        "  elif rand_num == 3:\n",
        "    cost = 2.50\n",
        "  print(f\"Each donut will cost ${cost}. \")\n",
        "  return cost\n",
        "\n",
        "def get_bulk_discount(num_donuts, donut_cost):\n",
        "  free_donuts = 0\n",
        "  if num_donuts >= 24:\n",
        "    free_donuts = 2\n",
        "  elif num_donuts >= 12:\n",
        "    free_donuts = 1\n",
        "  else:\n",
        "    free_donuts = 0\n",
        "  print(f\"You've earned {free_donuts} FREE DONUTS.\")\n",
        "\n",
        "  return free_donuts * donut_cost\n",
        "\n",
        "def print_receipt(the_subtotal, the_discount):\n",
        "  print(\"********** CUSTOMER RECEIPT **********\")\n",
        "  print(\"--------------------------------------\")\n",
        "  print(f\"\\tSubtotal: \\t  ${the_subtotal}\")\n",
        "  print(f\"\\tDiscount:\\t -${the_discount}\")\n",
        "  print(\"--------------------------------------\")\n",
        "  print(f\"TOTAL AFTER DISCOUNT\\t  ${the_subtotal - the_discount}\")\n",
        "  print(\"--------------------------------------\")\n",
        "\n",
        "#-------main-------\n",
        "donuts = get_donuts()\n",
        "cost = get_cost()\n",
        "\n",
        "discount = get_bulk_discount(donuts, cost)\n",
        "subtotal = donuts * cost\n",
        "\n",
        "print_receipt(subtotal, discount)"
      ],
      "metadata": {
        "id": "BAGPS66x9Ejn",
        "colab": {
          "base_uri": "https://localhost:8080/"
        },
        "outputId": "53a03804-43f0-4d62-9de9-38fb53a95e05"
      },
      "execution_count": 8,
      "outputs": [
        {
          "output_type": "stream",
          "name": "stdout",
          "text": [
            "You are going to buy 26 donuts!\n",
            "Each donut will cost $2.5. \n",
            "You've earned 2 FREE DONUTS.\n",
            "********** CUSTOMER RECEIPT **********\n",
            "--------------------------------------\n",
            "\tSubtotal: \t  $65.0\n",
            "\tDiscount:\t -$5.0\n",
            "--------------------------------------\n",
            "TOTAL AFTER DISCOUNT\t  $60.0\n",
            "--------------------------------------\n"
          ]
        }
      ]
    }
  ]
}