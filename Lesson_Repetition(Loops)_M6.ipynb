{
  "nbformat": 4,
  "nbformat_minor": 0,
  "metadata": {
    "colab": {
      "provenance": [],
      "authorship_tag": "ABX9TyNg5tWUphlarHtCNcUb8ZrU",
      "include_colab_link": true
    },
    "kernelspec": {
      "name": "python3",
      "display_name": "Python 3"
    },
    "language_info": {
      "name": "python"
    }
  },
  "cells": [
    {
      "cell_type": "markdown",
      "metadata": {
        "id": "view-in-github",
        "colab_type": "text"
      },
      "source": [
        "<a href=\"https://colab.research.google.com/github/Visal-Se/Google-Collab/blob/main/Lesson_Repetition(Loops)_M6.ipynb\" target=\"_parent\"><img src=\"https://colab.research.google.com/assets/colab-badge.svg\" alt=\"Open In Colab\"/></a>"
      ]
    },
    {
      "cell_type": "markdown",
      "source": [
        "#For Loop"
      ],
      "metadata": {
        "id": "hL8IUPPgXA_d"
      }
    },
    {
      "cell_type": "markdown",
      "source": [
        "Counter-controlled loops = For Loops"
      ],
      "metadata": {
        "id": "-yPFukTGW5EY"
      }
    },
    {
      "cell_type": "code",
      "execution_count": 1,
      "metadata": {
        "colab": {
          "base_uri": "https://localhost:8080/"
        },
        "id": "Q8OmvnnbQwco",
        "outputId": "9b387011-37c0-44ba-e35e-36d7035f6c6e"
      },
      "outputs": [
        {
          "output_type": "stream",
          "name": "stdout",
          "text": [
            "Interation 0\n",
            "Interation 5\n",
            "Interation 10\n",
            "Interation 15\n",
            "Interation 20\n",
            "Interation 25\n",
            "The loop is over.\n"
          ]
        }
      ],
      "source": [
        "for i in range(0,30,5):\n",
        "  print(\"Interation\", i)\n",
        "\n",
        "print(\"The loop is over.\")"
      ]
    },
    {
      "cell_type": "markdown",
      "source": [
        "#While Loop"
      ],
      "metadata": {
        "id": "Lg1fPYnoXHdd"
      }
    },
    {
      "cell_type": "markdown",
      "source": [
        "Sentinel-controlled Loops = While Loops"
      ],
      "metadata": {
        "id": "RUpFtDVNXCMc"
      }
    },
    {
      "cell_type": "code",
      "source": [
        "number = int(input(\"Enter a nuumber (1-3) > \"))\n",
        "while number < 1 or number > 3:\n",
        "  print(\"Invalid number. Please enter a value 1-3.\")\n",
        "  number = int(input(\"Enter a nuumber (1-3) > \"))\n",
        "\n",
        "print(number)"
      ],
      "metadata": {
        "id": "1q7_EgKRXMxp",
        "colab": {
          "base_uri": "https://localhost:8080/"
        },
        "outputId": "0660da67-a88b-4fa6-a34a-23922abed541"
      },
      "execution_count": 1,
      "outputs": [
        {
          "output_type": "stream",
          "name": "stdout",
          "text": [
            "Enter a nuumber (1-3) > 5\n",
            "Invalid number. Please enter a value 1-3.\n",
            "Enter a nuumber (1-3) > 341\n",
            "Invalid number. Please enter a value 1-3.\n",
            "Enter a nuumber (1-3) > 1\n",
            "1\n"
          ]
        }
      ]
    },
    {
      "cell_type": "code",
      "source": [
        "pw = ''\n",
        "\n",
        "while pw != \"Password168\":\n",
        "  pw = input(\"What is the password? > \")\n",
        "\n",
        "print(f\"\\nYes, the password is \\'{pw}\\'. You now have access!\")"
      ],
      "metadata": {
        "colab": {
          "base_uri": "https://localhost:8080/"
        },
        "id": "BTFNCa6zhEsh",
        "outputId": "7a97f2d2-f31e-4419-9a01-6c8ce4dd2d11"
      },
      "execution_count": 10,
      "outputs": [
        {
          "output_type": "stream",
          "name": "stdout",
          "text": [
            "What is the password? > Password168\n",
            "\n",
            "Yes, the password is 'Password168'. You now have access!\n"
          ]
        }
      ]
    },
    {
      "cell_type": "markdown",
      "source": [
        "#Strings"
      ],
      "metadata": {
        "id": "R6tCsyH8kdDy"
      }
    },
    {
      "cell_type": "code",
      "source": [
        "name = \"Visal\"\n",
        "print(name)"
      ],
      "metadata": {
        "id": "ovCTd_IzkbTz",
        "colab": {
          "base_uri": "https://localhost:8080/"
        },
        "outputId": "5b2df28d-fd1c-4a7f-cd35-f348ea1552f7"
      },
      "execution_count": null,
      "outputs": [
        {
          "output_type": "stream",
          "name": "stdout",
          "text": [
            "Visal\n"
          ]
        }
      ]
    },
    {
      "cell_type": "code",
      "source": [
        "# {}: curly braces\n",
        "# []: Heart bracket\n",
        "# (): perentheses"
      ],
      "metadata": {
        "id": "RfKy6VD0lXnV"
      },
      "execution_count": null,
      "outputs": []
    },
    {
      "cell_type": "code",
      "source": [
        "for i in range(len(subject)):\n",
        "  print(subject[i])\n"
      ],
      "metadata": {
        "colab": {
          "base_uri": "https://localhost:8080/",
          "height": 176
        },
        "id": "0lH1FatBnpvt",
        "outputId": "b4506353-91d7-4cb8-b8f8-36a97a40a388"
      },
      "execution_count": null,
      "outputs": [
        {
          "output_type": "error",
          "ename": "NameError",
          "evalue": "name 'subject' is not defined",
          "traceback": [
            "\u001b[0;31m---------------------------------------------------------------------------\u001b[0m",
            "\u001b[0;31mNameError\u001b[0m                                 Traceback (most recent call last)",
            "\u001b[0;32m<ipython-input-18-0bea8b4c0cf7>\u001b[0m in \u001b[0;36m<cell line: 0>\u001b[0;34m()\u001b[0m\n\u001b[0;32m----> 1\u001b[0;31m \u001b[0;32mfor\u001b[0m \u001b[0mi\u001b[0m \u001b[0;32min\u001b[0m \u001b[0mrange\u001b[0m\u001b[0;34m(\u001b[0m\u001b[0mlen\u001b[0m\u001b[0;34m(\u001b[0m\u001b[0msubject\u001b[0m\u001b[0;34m)\u001b[0m\u001b[0;34m)\u001b[0m\u001b[0;34m:\u001b[0m\u001b[0;34m\u001b[0m\u001b[0;34m\u001b[0m\u001b[0m\n\u001b[0m\u001b[1;32m      2\u001b[0m   \u001b[0mprint\u001b[0m\u001b[0;34m(\u001b[0m\u001b[0msubject\u001b[0m\u001b[0;34m[\u001b[0m\u001b[0mi\u001b[0m\u001b[0;34m]\u001b[0m\u001b[0;34m)\u001b[0m\u001b[0;34m\u001b[0m\u001b[0;34m\u001b[0m\u001b[0m\n\u001b[1;32m      3\u001b[0m \u001b[0;34m\u001b[0m\u001b[0m\n",
            "\u001b[0;31mNameError\u001b[0m: name 'subject' is not defined"
          ]
        }
      ]
    }
  ]
}