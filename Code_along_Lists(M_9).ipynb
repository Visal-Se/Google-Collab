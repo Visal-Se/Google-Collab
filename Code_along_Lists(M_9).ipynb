{
  "nbformat": 4,
  "nbformat_minor": 0,
  "metadata": {
    "colab": {
      "provenance": [],
      "collapsed_sections": [
        "IdrQyU7zaWXt"
      ],
      "include_colab_link": true
    },
    "kernelspec": {
      "name": "python3",
      "display_name": "Python 3"
    },
    "language_info": {
      "name": "python"
    }
  },
  "cells": [
    {
      "cell_type": "markdown",
      "metadata": {
        "id": "view-in-github",
        "colab_type": "text"
      },
      "source": [
        "<a href=\"https://colab.research.google.com/github/Visal-Se/Google-Collab/blob/main/Code_along_Lists(M_9).ipynb\" target=\"_parent\"><img src=\"https://colab.research.google.com/assets/colab-badge.svg\" alt=\"Open In Colab\"/></a>"
      ]
    },
    {
      "cell_type": "markdown",
      "source": [
        "**SAVE A COPY** OF THIS NOTEBOOK TO YOUR OWN DRIVE **BEFORE YOU START**"
      ],
      "metadata": {
        "id": "yOy3HqsXjdKb"
      }
    },
    {
      "cell_type": "markdown",
      "source": [
        "# calc_average(my_list)\n",
        "\n",
        "Write a function calc_average(my_list) which takes a list of numbers and returns the average of the numbers present. The list is guaranteed to have at least 1 number. The list is also guaranteed to be only numbers."
      ],
      "metadata": {
        "id": "cwVPoS1ZaQFu"
      }
    },
    {
      "cell_type": "markdown",
      "source": [
        "## Tests"
      ],
      "metadata": {
        "id": "XEiPuHjpaT_q"
      }
    },
    {
      "cell_type": "code",
      "execution_count": 16,
      "metadata": {
        "id": "9jSJ4irXZ-nP"
      },
      "outputs": [],
      "source": [
        "def test_calc_average():\n",
        "  assert calc_average([1]) == 1.0, \"Failed on [1]\"\n",
        "  assert calc_average([100, 50, 0]) == 50.0, \"Failed on [100, 50, 0]\"\n",
        "  assert calc_average([78.5, 98.2, 103.5, 99.3, 18.2]) == 79.5, \"Failed on [78.5, 98.2, 103.5, 99.3, 18.2]\"\n",
        "  print(\"All test_calc_average tests passed.\")"
      ]
    },
    {
      "cell_type": "code",
      "source": [
        "test_calc_average()"
      ],
      "metadata": {
        "id": "D-SnSjj1eqNR",
        "colab": {
          "base_uri": "https://localhost:8080/"
        },
        "outputId": "8c6f839a-d958-4ae2-dec1-91840d1cf8fc"
      },
      "execution_count": 17,
      "outputs": [
        {
          "output_type": "stream",
          "name": "stdout",
          "text": [
            "All test_calc_average tests passed.\n"
          ]
        }
      ]
    },
    {
      "cell_type": "markdown",
      "source": [
        "## Code"
      ],
      "metadata": {
        "id": "IdrQyU7zaWXt"
      }
    },
    {
      "cell_type": "code",
      "source": [
        "def calc_average(my_list):\n",
        "  total = 0\n",
        "  for value in my_list:\n",
        "    total += value\n",
        "  num_elements = len(my_list)\n",
        "  return round(total / num_elements, 1)\n"
      ],
      "metadata": {
        "id": "SBxC1_KnaVF6"
      },
      "execution_count": 13,
      "outputs": []
    },
    {
      "cell_type": "markdown",
      "source": [
        "# find_keyword(my_list, word)\n",
        "\n",
        "Write a function find_keyword(my_list, word) that returns True if my_list contains word (in any casing); otherwise, return False."
      ],
      "metadata": {
        "id": "7gWfxNHUiQPS"
      }
    },
    {
      "cell_type": "markdown",
      "source": [
        "## Tests"
      ],
      "metadata": {
        "id": "57uLzrUfiQPT"
      }
    },
    {
      "cell_type": "code",
      "execution_count": 32,
      "metadata": {
        "id": "amzuXYS-iQPT"
      },
      "outputs": [],
      "source": [
        "def test_find_keyword():\n",
        "  assert find_keyword([\"hi\"], \"hi\") == True, \"Failed: find 'hi' in ['hi']\"\n",
        "  assert find_keyword([\"hi\"], \"hello\") == False, \"Failed: find 'hello' in ['hi']\"\n",
        "  assert find_keyword([\"red\", \"green\", \"yellow\", \"blue\"], \"YELLOW\") == True, \"Failed: find 'yellow' in ['red', 'green', 'yellow', 'blue']\"\n",
        "  assert find_keyword([\"red\", \"green\", \"yellow\", \"blue\"], \"black\") == False, \"Failed: find 'black' in ['red', 'green', 'yellow', 'blue']\"\n",
        "  print(\"All test_find_keyword tests passed.\")"
      ]
    },
    {
      "cell_type": "code",
      "source": [
        "test_find_keyword()"
      ],
      "metadata": {
        "id": "XtZYHmR6iQPU",
        "colab": {
          "base_uri": "https://localhost:8080/"
        },
        "outputId": "c75a0ee1-355c-42a9-b7ab-dc52102e86d7"
      },
      "execution_count": 33,
      "outputs": [
        {
          "output_type": "stream",
          "name": "stdout",
          "text": [
            "All test_find_keyword tests passed.\n"
          ]
        }
      ]
    },
    {
      "cell_type": "markdown",
      "source": [
        "## Code"
      ],
      "metadata": {
        "id": "9-54a-zpiQPU"
      }
    },
    {
      "cell_type": "code",
      "source": [
        "def find_keyword(my_list, word):\n",
        "  for i in range(len(my_list)):\n",
        "    if my_list[i].lower() == word.lower():\n",
        "      return True\n",
        "\n",
        "  return False\n",
        ""
      ],
      "metadata": {
        "id": "UUYglB7FiQPU"
      },
      "execution_count": 31,
      "outputs": []
    },
    {
      "cell_type": "markdown",
      "source": [
        "# match(list1, list2)\n",
        "\n",
        "Write a function match(list1, list2) which returns True if the two lists contain the same values (ignoring casing). Otherwise, return False. The lists are not guaranteed to be the same length, so check that first!"
      ],
      "metadata": {
        "id": "mWeIuHDEa1SI"
      }
    },
    {
      "cell_type": "markdown",
      "source": [
        "## Tests"
      ],
      "metadata": {
        "id": "7MYHU6eNa1SJ"
      }
    },
    {
      "cell_type": "code",
      "execution_count": 47,
      "metadata": {
        "id": "ry157EAZa1SJ"
      },
      "outputs": [],
      "source": [
        "def test_match():\n",
        "  assert match([1, 2, 3], [1, 2, 3]) == True, \"Failed [1, 2, 3] == [1, 2, 3]\"\n",
        "  assert match([1], [1, 2]) == False, \"Failed [1] == [1, 2]\"\n",
        "  assert match([3, 2, 1], [1, 2, 3]) == False, \"Failed [3, 2, 1] == [1, 2, 3]\"\n",
        "  assert match([4, 5], [4, 6]) == False, \"Failed [4, 5] == [4, 6]\"\n",
        "  print(\"All test_match passed.\")"
      ]
    },
    {
      "cell_type": "code",
      "source": [
        "test_match()"
      ],
      "metadata": {
        "colab": {
          "base_uri": "https://localhost:8080/"
        },
        "id": "V_Cn8gyntI3L",
        "outputId": "b444fe75-0105-46c9-e966-62d638117e0c"
      },
      "execution_count": 48,
      "outputs": [
        {
          "output_type": "stream",
          "name": "stdout",
          "text": [
            "All test_match passed.\n"
          ]
        }
      ]
    },
    {
      "cell_type": "markdown",
      "source": [
        "## Code"
      ],
      "metadata": {
        "id": "PBNyIuFIa1SJ"
      }
    },
    {
      "cell_type": "code",
      "source": [
        "def match(list1, list2):\n",
        "  if len(list1) != len(list2):\n",
        "    return False\n",
        "\n",
        "  for i in range(len(list1)):\n",
        "    if list1[i] != list2[i]:\n",
        "      return False\n",
        "\n",
        "  return True"
      ],
      "metadata": {
        "id": "VwN3beAla1SJ"
      },
      "execution_count": 46,
      "outputs": []
    }
  ]
}