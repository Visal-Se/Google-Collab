{
  "nbformat": 4,
  "nbformat_minor": 0,
  "metadata": {
    "colab": {
      "provenance": [],
      "include_colab_link": true
    },
    "kernelspec": {
      "name": "python3",
      "display_name": "Python 3"
    },
    "language_info": {
      "name": "python"
    }
  },
  "cells": [
    {
      "cell_type": "markdown",
      "metadata": {
        "id": "view-in-github",
        "colab_type": "text"
      },
      "source": [
        "<a href=\"https://colab.research.google.com/github/Visal-Se/Google-Collab/blob/main/Practice_Loops_(M_6)ipynb.ipynb\" target=\"_parent\"><img src=\"https://colab.research.google.com/assets/colab-badge.svg\" alt=\"Open In Colab\"/></a>"
      ]
    },
    {
      "cell_type": "markdown",
      "source": [
        "**SAVE A COPY** OF THIS NOTEBOOK TO YOUR OWN DRIVE **BEFORE YOU START**"
      ],
      "metadata": {
        "id": "OmnX9Fn-mUEC"
      }
    },
    {
      "cell_type": "markdown",
      "source": [
        "# Predict the result\n",
        "\n",
        "You should first read the code and predict what it will do. After predicting, you should run the code."
      ],
      "metadata": {
        "id": "9fjQGM5UufI7"
      }
    },
    {
      "cell_type": "markdown",
      "source": [
        "Code 1"
      ],
      "metadata": {
        "id": "oaeaOPijvpSi"
      }
    },
    {
      "cell_type": "code",
      "execution_count": 6,
      "metadata": {
        "id": "1ttHBV2ruXIY",
        "colab": {
          "base_uri": "https://localhost:8080/"
        },
        "outputId": "7a7890bc-13db-4ef3-9f09-c934d2ab026f"
      },
      "outputs": [
        {
          "output_type": "stream",
          "name": "stdout",
          "text": [
            "0 1 2 The end.\n"
          ]
        }
      ],
      "source": [
        "for i in range(3):\n",
        "  print(i, '', end=\"\")\n",
        "print(\"The end.\")"
      ]
    },
    {
      "cell_type": "markdown",
      "source": [
        "Code 2"
      ],
      "metadata": {
        "id": "B83HRL3Mvqkx"
      }
    },
    {
      "cell_type": "code",
      "source": [
        "for i in range(5):\n",
        "  print(\"Hello!\", end=\"\")\n",
        "print()\n",
        "print(\"Hi!\")"
      ],
      "metadata": {
        "id": "9hVVHbGVupjA",
        "colab": {
          "base_uri": "https://localhost:8080/"
        },
        "outputId": "0044303d-6399-4a5b-89bd-e2dcc6d1c6ec"
      },
      "execution_count": 7,
      "outputs": [
        {
          "output_type": "stream",
          "name": "stdout",
          "text": [
            "Hello!Hello!Hello!Hello!Hello!\n",
            "Hi!\n"
          ]
        }
      ]
    },
    {
      "cell_type": "markdown",
      "source": [
        "Code 3"
      ],
      "metadata": {
        "id": "N18V7ScGvrhp"
      }
    },
    {
      "cell_type": "code",
      "source": [
        "sum = 0\n",
        "for i in range(10):\n",
        "  sum = sum + i\n",
        "\n",
        "print(\"The sum of numbers is\", sum)"
      ],
      "metadata": {
        "id": "N2bFZauTu-o1"
      },
      "execution_count": null,
      "outputs": []
    },
    {
      "cell_type": "markdown",
      "source": [
        "Code 4"
      ],
      "metadata": {
        "id": "-zXT19TTvsQ4"
      }
    },
    {
      "cell_type": "code",
      "source": [
        "for i in range(1, 5):\n",
        "  print(i, \" \", end=\"\")\n",
        "print()"
      ],
      "metadata": {
        "id": "HwC7slmwvX4h"
      },
      "execution_count": null,
      "outputs": []
    },
    {
      "cell_type": "markdown",
      "source": [
        "Code 5"
      ],
      "metadata": {
        "id": "ySy0TQaRvtCl"
      }
    },
    {
      "cell_type": "code",
      "source": [
        "for i in range(1, 6):\n",
        "  print(f\"{i}\")"
      ],
      "metadata": {
        "id": "4uOTySeSvkgu"
      },
      "execution_count": null,
      "outputs": []
    },
    {
      "cell_type": "markdown",
      "source": [
        "Code 6"
      ],
      "metadata": {
        "id": "tACWcCuuzmie"
      }
    },
    {
      "cell_type": "code",
      "source": [
        "for index in range(100, 600, 50):\n",
        "  print(index, \" \", end=\"\")"
      ],
      "metadata": {
        "id": "WCYC6Gn7znhk"
      },
      "execution_count": null,
      "outputs": []
    },
    {
      "cell_type": "markdown",
      "source": [
        "Code 7"
      ],
      "metadata": {
        "id": "qQ_1bQHLzskj"
      }
    },
    {
      "cell_type": "code",
      "source": [
        "for i in range(10, 1, -2):\n",
        "  print(f\"{i}\")"
      ],
      "metadata": {
        "id": "xunv-8fxztas",
        "colab": {
          "base_uri": "https://localhost:8080/"
        },
        "outputId": "1606e8b8-fe4e-4e05-ce84-405ad9ac6256"
      },
      "execution_count": 12,
      "outputs": [
        {
          "output_type": "stream",
          "name": "stdout",
          "text": [
            "10\n",
            "8\n",
            "6\n",
            "4\n",
            "2\n"
          ]
        }
      ]
    },
    {
      "cell_type": "markdown",
      "source": [
        "Code 8"
      ],
      "metadata": {
        "id": "d0ZAnOXczwiZ"
      }
    },
    {
      "cell_type": "code",
      "source": [
        "for i in range(20, 0, -1):\n",
        "  print(i, \" \", end=\"\")"
      ],
      "metadata": {
        "id": "WXeyaA-TzxX9"
      },
      "execution_count": null,
      "outputs": []
    },
    {
      "cell_type": "markdown",
      "source": [
        "Code 9"
      ],
      "metadata": {
        "id": "BNzxmwYjzzv3"
      }
    },
    {
      "cell_type": "code",
      "source": [
        "stop = \"no\"\n",
        "\n",
        "while stop != \"yes\":\n",
        "  stop = input(\"Would you like to stop the loop? > \")\n",
        "  stop = stop.lower()\n",
        "\n",
        "print(\"You stopped the loop.\")"
      ],
      "metadata": {
        "id": "4-1ccUFJz04H",
        "colab": {
          "base_uri": "https://localhost:8080/"
        },
        "outputId": "1db76d4a-931f-4d08-87a3-e4911711c529"
      },
      "execution_count": 16,
      "outputs": [
        {
          "output_type": "stream",
          "name": "stdout",
          "text": [
            "Would you like to stop the loop? > NO\n",
            "Would you like to stop the loop? > no\n",
            "Would you like to stop the loop? > noo\n",
            "Would you like to stop the loop? > Yes\n",
            "You stopped the loop.\n"
          ]
        }
      ]
    },
    {
      "cell_type": "markdown",
      "source": [
        "Code 10"
      ],
      "metadata": {
        "id": "y-jyhCDOz3mf"
      }
    },
    {
      "cell_type": "code",
      "source": [
        "apples = 0\n",
        "\n",
        "print(\"You have no apples. You need 10.\\n\")\n",
        "\n",
        "while apples < 10:\n",
        "  print(\"CURRENT APPLE COUNT =\", apples)\n",
        "  print(\"\\nOh look, you just found some apples.\")\n",
        "  found = int(input(\"How many apples did you find? > \"))\n",
        "  apples = apples + found\n",
        "  print()\n",
        "\n",
        "print(\"Now you have\", apples, \"and that's 10 or more!\")"
      ],
      "metadata": {
        "id": "fmlrcW0vz4q9",
        "colab": {
          "base_uri": "https://localhost:8080/"
        },
        "collapsed": true,
        "outputId": "12b504d9-8865-4475-acf0-0c9e8bb1318c"
      },
      "execution_count": 22,
      "outputs": [
        {
          "output_type": "stream",
          "name": "stdout",
          "text": [
            "You have no apples. You need 10.\n",
            "\n",
            "CURRENT APPLE COUNT = 0\n",
            "\n",
            "Oh look, you just found some apples.\n",
            "How many apples did you find? > 2\n",
            "\n",
            "CURRENT APPLE COUNT = 2\n",
            "\n",
            "Oh look, you just found some apples.\n",
            "How many apples did you find? > 3\n",
            "\n",
            "CURRENT APPLE COUNT = 5\n",
            "\n",
            "Oh look, you just found some apples.\n",
            "How many apples did you find? > 4\n",
            "\n",
            "CURRENT APPLE COUNT = 9\n",
            "\n",
            "Oh look, you just found some apples.\n",
            "How many apples did you find? > 10\n",
            "\n",
            "Now you have 19 and that's 10 or more!\n"
          ]
        }
      ]
    },
    {
      "cell_type": "markdown",
      "source": [
        "# Write your own\n",
        "\n",
        "Write code snippets to do the following."
      ],
      "metadata": {
        "id": "vd0lsPpPwAMl"
      }
    },
    {
      "cell_type": "markdown",
      "source": [
        "Specification 11\n",
        "\n",
        "Write code that produces the following:\n",
        "\n",
        "```\n",
        "Go Shoreline Dolphins!\n",
        "Go Shoreline Dolphins!\n",
        "Go Shoreline Dolphins!\n",
        "Go Shoreline Dolphins!\n",
        "Go Shoreline Dolphins!\n",
        "Go Shoreline Dolphins!\n",
        "Go Shoreline Dolphins!\n",
        "Go Shoreline Dolphins!\n",
        "Go Shoreline Dolphins!\n",
        "Go Shoreline Dolphins!\n",
        "\n",
        "```"
      ],
      "metadata": {
        "id": "9ST_XykuwHft"
      }
    },
    {
      "cell_type": "code",
      "source": [],
      "metadata": {
        "id": "zjYH8SYbwGId"
      },
      "execution_count": null,
      "outputs": []
    },
    {
      "cell_type": "markdown",
      "source": [
        "Specification 12\n",
        "\n",
        "Write code that allows the following possible output:\n",
        "\n",
        "```\n",
        "Enter \"yay!\" > Yay?\n",
        "Enter \"yay!\" > yeah!\n",
        "Enter \"yay!\" > YAY\n",
        "Enter \"yay!\" > yay!\n",
        "\n",
        "Thanks for entering \"yay!\" exactly as specified.\n",
        "```"
      ],
      "metadata": {
        "id": "GAghCEBswQ_3"
      }
    },
    {
      "cell_type": "code",
      "source": [
        "yay = ''\n",
        "while yay != \"yay!\":\n",
        "  yay = input(\"Enter \\\"yay!\\\" > \")\n",
        "print()\n",
        "print(\"Thanks for entering \\\"yay!\\\" exactly as specified.\")"
      ],
      "metadata": {
        "id": "S-mjdTkqwWgL",
        "colab": {
          "base_uri": "https://localhost:8080/"
        },
        "collapsed": true,
        "outputId": "ef91545f-02cd-4cae-b52a-67895ef332aa"
      },
      "execution_count": 8,
      "outputs": [
        {
          "output_type": "stream",
          "name": "stdout",
          "text": [
            "Enter \"yay!\" > Yay?\n",
            "Enter \"yay!\" > yeah!\n",
            "Enter \"yay!\" > YAY\n",
            "Enter \"yay!\" > yay!\n",
            "\n",
            "Thanks for entering \"yay!\" exactly as specified.\n"
          ]
        }
      ]
    }
  ]
}