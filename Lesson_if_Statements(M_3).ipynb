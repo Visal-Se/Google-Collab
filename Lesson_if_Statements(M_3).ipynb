{
  "nbformat": 4,
  "nbformat_minor": 0,
  "metadata": {
    "colab": {
      "provenance": [],
      "authorship_tag": "ABX9TyPtOz9zDeH/13pexq6qmukl",
      "include_colab_link": true
    },
    "kernelspec": {
      "name": "python3",
      "display_name": "Python 3"
    },
    "language_info": {
      "name": "python"
    }
  },
  "cells": [
    {
      "cell_type": "markdown",
      "metadata": {
        "id": "view-in-github",
        "colab_type": "text"
      },
      "source": [
        "<a href=\"https://colab.research.google.com/github/Visal-Se/Google-Collab/blob/main/Lesson_if_Statements(M_3).ipynb\" target=\"_parent\"><img src=\"https://colab.research.google.com/assets/colab-badge.svg\" alt=\"Open In Colab\"/></a>"
      ]
    },
    {
      "cell_type": "markdown",
      "source": [
        "##**Conditional Statements**\n",
        "When creating a condition statement:\n",
        "- you must have an \" **if** \" to begin the test (must)\n",
        "- you may have any number of \"**elif** \" depending on if you want to test multiple conditions dependent on the others (must)\n",
        "- you may have an \"**else**\", depending on if you want an 'otherwise' action (Optional)\n",
        "\n"
      ],
      "metadata": {
        "id": "9vvEGSqauypb"
      }
    },
    {
      "cell_type": "code",
      "execution_count": 9,
      "metadata": {
        "colab": {
          "base_uri": "https://localhost:8080/"
        },
        "id": "fgZZfbbZueX_",
        "outputId": "b89d1d80-6e27-42f0-fbfb-f1e64d39259b"
      },
      "outputs": [
        {
          "output_type": "stream",
          "name": "stdout",
          "text": [
            "What is your name > Bob\n",
            "Bob is my friend's name!\n"
          ]
        }
      ],
      "source": [
        "name = input(\"What is your name > \")\n",
        "if name == \"Visal\":\n",
        "  print(\"My name is Visal, too!\")\n",
        "  print(\";O\")\n",
        "elif name == \"Bob\":\n",
        "  print(\"Bob is my friend's name!\")\n",
        "else:\n",
        "  print(f\"{name} is a cool name!\")"
      ]
    },
    {
      "cell_type": "code",
      "source": [
        "school_name = input(\"What is your school name? > \")\n",
        "if school_name == \"Beltei international school\":\n",
        "  print(\"I also study in there too!\")"
      ],
      "metadata": {
        "colab": {
          "base_uri": "https://localhost:8080/"
        },
        "id": "tA4womno8-5X",
        "outputId": "dc8120b0-d509-4325-8deb-57d68a227c62"
      },
      "execution_count": 11,
      "outputs": [
        {
          "output_type": "stream",
          "name": "stdout",
          "text": [
            "What is your school name? > Beltei international school\n",
            "I also study in there too!\n"
          ]
        }
      ]
    },
    {
      "cell_type": "code",
      "source": [
        "x = 10\n",
        "y = 20\n",
        "\n",
        "if x == 10:\n",
        "  print (\"x is 10\")\n",
        "  if y == 20:\n",
        "    print(\"y is 20\")"
      ],
      "metadata": {
        "colab": {
          "base_uri": "https://localhost:8080/"
        },
        "id": "w4uMLaXmBAZX",
        "outputId": "96d3e726-645c-45d3-c588-c41fc5ca6acd"
      },
      "execution_count": 17,
      "outputs": [
        {
          "output_type": "stream",
          "name": "stdout",
          "text": [
            "x is 10\n",
            "y is 20\n"
          ]
        }
      ]
    }
  ]
}